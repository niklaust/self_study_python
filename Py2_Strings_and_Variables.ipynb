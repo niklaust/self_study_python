{
  "nbformat": 4,
  "nbformat_minor": 0,
  "metadata": {
    "colab": {
      "name": "Py2_Strings_and_Variables.ipynb",
      "provenance": [],
      "collapsed_sections": []
    },
    "kernelspec": {
      "name": "python3",
      "display_name": "Python 3"
    }
  },
  "cells": [
    {
      "cell_type": "markdown",
      "metadata": {
        "id": "ZXk0wuAJo2AW"
      },
      "source": [
        "**Strings**\n",
        "\n",
        "If you want to use text in Python, you have to use a **string.**\n",
        "\n",
        "A **string** is created by entering text between **two single or double quotation masks**\n",
        "\n",
        "> print(\"Python is fun!\")\n",
        "\n",
        "> print('Always look on the bright side of life')\n",
        "\n",
        "The delimiter (\"or') used for a string doesn't affect how it behaves in anyway."
      ]
    },
    {
      "cell_type": "code",
      "metadata": {
        "colab": {
          "base_uri": "https://localhost:8080/"
        },
        "id": "iYHtFceoofdu",
        "outputId": "6cb902dc-e3ec-44b7-b22b-ab6e248e9ac3"
      },
      "source": [
        "print(\"Hello world!\")"
      ],
      "execution_count": null,
      "outputs": [
        {
          "output_type": "stream",
          "text": [
            "Hello world!\n"
          ],
          "name": "stdout"
        }
      ]
    },
    {
      "cell_type": "markdown",
      "metadata": {
        "id": "cFq9JGjtpf1F"
      },
      "source": [
        "**Backslash**\n",
        "\n",
        "Some characters can't be directly included in a string. For instance, double quotes can't be directly included in a double quote string; this would cause it to end prematurely.\n",
        "\n",
        "Characters like these must be escaped by placing a **backslash** before them. Double quotes only need to be escaped in double quote strings, and the same is true for singel quote strings.\n",
        "\n",
        "**For Example:**\n",
        "\n",
        "> print('Brian\\'s mother: He\\'s not an angel. He\\'s a very naughty boy!')\n",
        "\n",
        "**Backslashes** can also be used to escape tabs, arbitraty Unicode characters, and various other things that can't be reliably printed."
      ]
    },
    {
      "cell_type": "code",
      "metadata": {
        "colab": {
          "base_uri": "https://localhost:8080/"
        },
        "id": "ojLQ66AgJ2qS",
        "outputId": "4214a362-13c5-469a-c4e8-35160eb6b10b"
      },
      "source": [
        "print('Brain\\'s mother: He\\'s not an angel. He\\'s a very naughty boy!') "
      ],
      "execution_count": null,
      "outputs": [
        {
          "output_type": "stream",
          "text": [
            "Brain's mother: He's not an angel. He's a very naughty boy!\n"
          ],
          "name": "stdout"
        }
      ]
    },
    {
      "cell_type": "code",
      "metadata": {
        "colab": {
          "base_uri": "https://localhost:8080/"
        },
        "id": "1f68d7UhqlK1",
        "outputId": "be4a7100-80c0-4575-b5a2-df227ca87536"
      },
      "source": [
        "print('I\\'m learning!')"
      ],
      "execution_count": null,
      "outputs": [
        {
          "output_type": "stream",
          "text": [
            "I'm learning!\n"
          ],
          "name": "stdout"
        }
      ]
    },
    {
      "cell_type": "markdown",
      "metadata": {
        "id": "NW6zQSZ3qrrK"
      },
      "source": [
        "**Newlines**\n",
        "\n",
        "**\\n** represents a new line.\n",
        "\n",
        "It can be used in strings to create multi-line output:\n",
        "\n",
        "> print('One \\nTwo \\nThree')\n",
        "\n",
        "Similarly, **\\t** represents a tab."
      ]
    },
    {
      "cell_type": "code",
      "metadata": {
        "colab": {
          "base_uri": "https://localhost:8080/"
        },
        "id": "Mpy8cI40rN6c",
        "outputId": "89c1d85a-79a2-4b51-f2bd-5af2d28e4a3d"
      },
      "source": [
        "print(\"Hello \\nWorld\")"
      ],
      "execution_count": null,
      "outputs": [
        {
          "output_type": "stream",
          "text": [
            "Hello \n",
            "World\n"
          ],
          "name": "stdout"
        }
      ]
    },
    {
      "cell_type": "markdown",
      "metadata": {
        "id": "-4Cl5DRVrTHM"
      },
      "source": [
        "**Newlines**\n",
        "\n",
        "Newlines will be automatically added for strings that are created using **three quotes**.\n",
        "\n",
        "**For example**\n",
        "\n",
        "> print(   \n",
        "  \n",
        "            \"\"\"\n",
        "\n",
        "            this\n",
        "            is a \n",
        "            multiline \n",
        "            text\n",
        "\n",
        "            \"\"\"\n",
        "            )\n",
        "\n",
        "This makes it easier to format long, multi-line texts without the need to explicitly put **\\n** for line breaks."
      ]
    },
    {
      "cell_type": "code",
      "metadata": {
        "colab": {
          "base_uri": "https://localhost:8080/"
        },
        "id": "yvZB26fgsVA8",
        "outputId": "46d64d21-390d-4ca8-f21f-f64d2f867171"
      },
      "source": [
        "print(\"Hi\")\n",
        "print(\"\"\"This \n",
        "is \n",
        "great\"\"\")"
      ],
      "execution_count": null,
      "outputs": [
        {
          "output_type": "stream",
          "text": [
            "Hi\n",
            "This \n",
            "is \n",
            "great\n"
          ],
          "name": "stdout"
        }
      ]
    },
    {
      "cell_type": "code",
      "metadata": {
        "colab": {
          "base_uri": "https://localhost:8080/"
        },
        "id": "sGSSzufBKWi6",
        "outputId": "71d32abe-a9e5-44de-9e1d-8b670c0c4bde"
      },
      "source": [
        "print(\"Hi \\nThis \\nis \\ngreat\")"
      ],
      "execution_count": null,
      "outputs": [
        {
          "output_type": "stream",
          "text": [
            "Hi \n",
            "This \n",
            "is \n",
            "great\n"
          ],
          "name": "stdout"
        }
      ]
    },
    {
      "cell_type": "markdown",
      "metadata": {
        "id": "AOp3Bn8Fsf3d"
      },
      "source": [
        "**Concatenation**\n",
        "\n",
        "As with integers and floats, strings in Python can be added, using a process called **concatenation**, which can be done on any two strings.\n",
        "\n",
        "> print(\"Spam\" + 'eggs')\n",
        "\n",
        "Even if your strings contain numbers, they are still added as strings rather than integers.\n",
        "\n",
        "> print(\"2\" + \"2\")\n",
        "\n",
        "**Adding** a **string** to a **number** produces an **error**, as even though they might look similar, they are two different entities. "
      ]
    },
    {
      "cell_type": "code",
      "metadata": {
        "colab": {
          "base_uri": "https://localhost:8080/"
        },
        "id": "C5Q7DWm4tZOF",
        "outputId": "4494f00e-ac94-4753-d515-f0f615f7f46f"
      },
      "source": [
        "print(\"Python \" + \"is \" + \"awesome. \")"
      ],
      "execution_count": null,
      "outputs": [
        {
          "output_type": "stream",
          "text": [
            "Python is awesome. \n"
          ],
          "name": "stdout"
        }
      ]
    },
    {
      "cell_type": "markdown",
      "metadata": {
        "id": "VihUC4UAtlQI"
      },
      "source": [
        "**String Operations**\n",
        "\n",
        "Strings can also be **multipled by** **integers.** \n",
        "\n",
        "This produces a **repeated version of the original string**. The order of the string and the integer doesn't matter, but the string usually coms first.\n",
        "\n",
        "> print(\"spam\" *3)\n",
        "\n",
        "> print(4 * '2')\n",
        "\n",
        "Strings can't be multiplied by other strings. Strings also can't be multiplied by floats, even if the floats are whole numbers."
      ]
    },
    {
      "cell_type": "code",
      "metadata": {
        "colab": {
          "base_uri": "https://localhost:8080/"
        },
        "id": "ev7ClY01uNuD",
        "outputId": "fdd3f993-3585-4983-943e-03fef8d0d940"
      },
      "source": [
        "print(3*'7')"
      ],
      "execution_count": null,
      "outputs": [
        {
          "output_type": "stream",
          "text": [
            "777\n"
          ],
          "name": "stdout"
        }
      ]
    },
    {
      "cell_type": "markdown",
      "metadata": {
        "id": "ZuOZ0zIouThj"
      },
      "source": [
        "**Variables**\n",
        "\n",
        "A **variable** allows you to store a value by assigning it to a name, which can be used to refer to the value alter in the program.\n",
        "\n",
        "For example, in game development, you would use a variable to store the points of the player. \n",
        "\n",
        "To assign a variable, use **one equals sign**\n",
        "\n",
        "> user = \"James\"\n",
        "\n",
        "In given example we assigned string \"James\" to user variable."
      ]
    },
    {
      "cell_type": "code",
      "metadata": {
        "colab": {
          "base_uri": "https://localhost:8080/"
        },
        "id": "i_erVfT3u3tz",
        "outputId": "65a78541-869a-4a30-f123-f7ba6aba4a2a"
      },
      "source": [
        "age = 42\n",
        "\n",
        "print(age)"
      ],
      "execution_count": null,
      "outputs": [
        {
          "output_type": "stream",
          "text": [
            "42\n"
          ],
          "name": "stdout"
        }
      ]
    },
    {
      "cell_type": "markdown",
      "metadata": {
        "id": "wjWCDTN2u8KD"
      },
      "source": [
        "**Variable names**\n",
        "\n",
        "Certain restrictions apply in regard to the characters that may be used in Python variable names. The only characters that are allowed are \n",
        "- **letters,** \n",
        "- **numbers,** and \n",
        "- **underscores.** \n",
        "\n",
        "Also, they can't start with numbers. Not following these rules results in errors.\n",
        "\n",
        "> this_is_a_normal_name = 7\n",
        "\n",
        "> 123abc = 7 \n",
        "SyntaxError: invalid syntax\n",
        "\n",
        "Python is a case sensitive programming language. Thus, **Lastname** and **lastname** are two **different variable** names in Python.\n"
      ]
    },
    {
      "cell_type": "code",
      "metadata": {
        "colab": {
          "base_uri": "https://localhost:8080/"
        },
        "id": "Iv1uycjqvvY0",
        "outputId": "95b2517f-9f5d-4a96-c919-e75932f4e35c"
      },
      "source": [
        "A_VARIABLE_NAME = True\n",
        "\n",
        "if A_VARIABLE_NAME == True:\n",
        "  print(\"yes\")\n",
        "\n"
      ],
      "execution_count": null,
      "outputs": [
        {
          "output_type": "stream",
          "text": [
            "yes\n"
          ],
          "name": "stdout"
        }
      ]
    },
    {
      "cell_type": "markdown",
      "metadata": {
        "id": "mvNDTVHYwXZ7"
      },
      "source": [
        "**Working with Variables**\n",
        "\n",
        "You can use variables to perform corresponding operations, just as you did with numbers and strings:\n",
        "\n",
        "> x = 7\n",
        "\n",
        "> print(x)\n",
        "\n",
        "> print( x + 3)\n",
        "\n",
        "> print(x)\n",
        "\n",
        "As you can see, the variable stores its value throughout the program."
      ]
    },
    {
      "cell_type": "code",
      "metadata": {
        "colab": {
          "base_uri": "https://localhost:8080/"
        },
        "id": "s5JaTQpPwy0M",
        "outputId": "b5aebe8b-2ace-41cf-facd-e751a2a97907"
      },
      "source": [
        "spam = \"eggs\"\n",
        "\n",
        "print(spam*3)"
      ],
      "execution_count": null,
      "outputs": [
        {
          "output_type": "stream",
          "text": [
            "eggseggseggs\n"
          ],
          "name": "stdout"
        }
      ]
    },
    {
      "cell_type": "markdown",
      "metadata": {
        "id": "rB-lLCz7w-cZ"
      },
      "source": [
        "**Working with Variables**\n",
        "\n",
        "Variables can be reassigned as many times as you want, in order to change their value.\n",
        "\n",
        "**In Python**, variables **don't have specific types**, so you can assign a string to a variable, and later assign an integer to the same variable.\n",
        "\n",
        "> x = 123.456\n",
        "\n",
        "> print(x)\n",
        "\n",
        "> x = \"This is a string\"\n",
        "\n",
        "> print(x + \"!\")\n",
        "\n",
        "However, it is not good practice. To avaid mistakes, try to avoid overwriting the same variable with different data types."
      ]
    },
    {
      "cell_type": "code",
      "metadata": {
        "colab": {
          "base_uri": "https://localhost:8080/"
        },
        "id": "keGB9XM5w2LV",
        "outputId": "3355e9ca-0738-4fbb-83f5-2a3407365748"
      },
      "source": [
        "x = 5\n",
        "y = 7\n",
        "\n",
        "print(x + y)"
      ],
      "execution_count": null,
      "outputs": [
        {
          "output_type": "stream",
          "text": [
            "12\n"
          ],
          "name": "stdout"
        }
      ]
    },
    {
      "cell_type": "markdown",
      "metadata": {
        "id": "TbjFlqkxx9ZC"
      },
      "source": [
        "**Input**\n",
        "\n",
        "Let's assume we want to take the age of the user as input. We know that the **input()** function returns a string. To convert it to a number, we can use the **int()** function.\n",
        "\n",
        "> age = int(input())\n",
        "\n",
        "> print(age)\n",
        "\n",
        "Similarly, inorder to convert a number to a string, the \"str()\" function is used. This can be useful if you need to use a number in string concatenation.\n",
        "\n",
        "For example:\n",
        "\n",
        "> age = 42\n",
        "\n",
        "> print(\"His age is \" + str(age))"
      ]
    },
    {
      "cell_type": "code",
      "metadata": {
        "colab": {
          "base_uri": "https://localhost:8080/"
        },
        "id": "R7F3iWD3yxbM",
        "outputId": "a4e90f5d-5035-4798-95cb-2725e7444dba"
      },
      "source": [
        "x = \"2\"\n",
        "y = \"4\"\n",
        "z = int(x) + int(y)\n",
        "print(z)"
      ],
      "execution_count": null,
      "outputs": [
        {
          "output_type": "stream",
          "text": [
            "6\n"
          ],
          "name": "stdout"
        }
      ]
    },
    {
      "cell_type": "markdown",
      "metadata": {
        "id": "xA-KbJSny7JL"
      },
      "source": [
        "**Input**\n",
        "\n",
        "You can use input() multiple times to take multiple user inputs \n",
        "\n",
        "**For example:**\n",
        "\n",
        "> name = input()\n",
        "\n",
        "> age = input()\n",
        "\n",
        "> print(name + \" is \" + age)\n",
        "\n",
        "When input() function executes, program flow stops until a user enters some value."
      ]
    },
    {
      "cell_type": "code",
      "metadata": {
        "colab": {
          "base_uri": "https://localhost:8080/"
        },
        "id": "xTEsuT1yzcqx",
        "outputId": "e853e0dc-a728-4a49-a15a-becbf1ad11ab"
      },
      "source": [
        "x = int(input())\n",
        "y = int(input())\n",
        "\n",
        "print(x + y)"
      ],
      "execution_count": null,
      "outputs": [
        {
          "output_type": "stream",
          "text": [
            "7\n",
            "3\n",
            "10\n"
          ],
          "name": "stdout"
        }
      ]
    },
    {
      "cell_type": "markdown",
      "metadata": {
        "id": "yPSKZifJzrmJ"
      },
      "source": [
        "**In-Place Operators**\n",
        "\n",
        "**In-place operators** allow you to write code like 'x = x + 3' more concisely, as ' x +=3'.\n",
        "\n",
        "The same thing is possible with other operators such as -, * , /and % as well.\n",
        "\n",
        "> x = 2 \n",
        "\n",
        "> print(x)\n",
        "\n",
        "> x += 3\n",
        "\n",
        "> print(x)"
      ]
    },
    {
      "cell_type": "code",
      "metadata": {
        "colab": {
          "base_uri": "https://localhost:8080/"
        },
        "id": "zCy75SZq0L9x",
        "outputId": "f21b4729-d01e-4e43-ad6e-923211793cc0"
      },
      "source": [
        "x = 4\n",
        "x *=3\n",
        "\n",
        "print(x)"
      ],
      "execution_count": null,
      "outputs": [
        {
          "output_type": "stream",
          "text": [
            "12\n"
          ],
          "name": "stdout"
        }
      ]
    },
    {
      "cell_type": "markdown",
      "metadata": {
        "id": "m74hf_M60UnI"
      },
      "source": [
        "**In-place Operators**\n",
        "\n",
        "These operators can be used on types other than numbers, as well, such as **strings**\n",
        "\n",
        "> x = \"spam\"\n",
        "\n",
        "> print(x)\n",
        "\n",
        "> x += \"eggs\"\n",
        "\n",
        "> print(x)\n",
        "\n",
        "In-place operators can be used for any numerical operation( + , - , * , / , %, **, //)."
      ]
    },
    {
      "cell_type": "code",
      "metadata": {
        "colab": {
          "base_uri": "https://localhost:8080/"
        },
        "id": "Av9hWxgP00rK",
        "outputId": "16bddb55-a720-4b26-dfbb-35e31e3ef26e"
      },
      "source": [
        "x = \"a\"\n",
        "x *= 3\n",
        "\n",
        "print(x)"
      ],
      "execution_count": null,
      "outputs": [
        {
          "output_type": "stream",
          "text": [
            "aaa\n"
          ],
          "name": "stdout"
        }
      ]
    },
    {
      "cell_type": "code",
      "metadata": {
        "colab": {
          "base_uri": "https://localhost:8080/"
        },
        "id": "_HTpnrJS09Np",
        "outputId": "301b6cd9-b46c-4dfd-f18b-fa2f9c0dda0b"
      },
      "source": [
        "spam = \"7\"\n",
        "spam = spam + \"0\"\n",
        "eggs = int(spam) + 3\n",
        "\n",
        "print(float(eggs))"
      ],
      "execution_count": null,
      "outputs": [
        {
          "output_type": "stream",
          "text": [
            "73.0\n"
          ],
          "name": "stdout"
        }
      ]
    },
    {
      "cell_type": "code",
      "metadata": {
        "colab": {
          "base_uri": "https://localhost:8080/"
        },
        "id": "wfMwJWYk0-ng",
        "outputId": "e10b87d0-34ab-4691-b13e-1d7d3b77c3e4"
      },
      "source": [
        "#enter '42' as input:\n",
        "\n",
        "age = int(input())\n",
        "print(age + 8)"
      ],
      "execution_count": null,
      "outputs": [
        {
          "output_type": "stream",
          "text": [
            "42\n",
            "50\n"
          ],
          "name": "stdout"
        }
      ]
    },
    {
      "cell_type": "code",
      "metadata": {
        "colab": {
          "base_uri": "https://localhost:8080/"
        },
        "id": "-yy0gg6S1Z5i",
        "outputId": "bf821d1a-09bd-4c0b-c0f8-fcb1514cd1f9"
      },
      "source": [
        "x = 5\n",
        "y = x +3\n",
        "y = int(str(y) + \"2\")\n",
        "\n",
        "print(y)"
      ],
      "execution_count": null,
      "outputs": [
        {
          "output_type": "stream",
          "text": [
            "82\n"
          ],
          "name": "stdout"
        }
      ]
    },
    {
      "cell_type": "code",
      "metadata": {
        "colab": {
          "base_uri": "https://localhost:8080/"
        },
        "id": "NG3RYLUS1lfi",
        "outputId": "9a98b0aa-f9af-4b77-cbec-ff168f696773"
      },
      "source": [
        "x = 4\n",
        "x += 5\n",
        "\n",
        "print(x)"
      ],
      "execution_count": null,
      "outputs": [
        {
          "output_type": "stream",
          "text": [
            "9\n"
          ],
          "name": "stdout"
        }
      ]
    },
    {
      "cell_type": "code",
      "metadata": {
        "colab": {
          "base_uri": "https://localhost:8080/"
        },
        "id": "Mb1MpnsZ1yxL",
        "outputId": "9c66903e-74b0-4656-adf6-e125ef83dea0"
      },
      "source": [
        "x = 3 \n",
        "num = 17\n",
        "\n",
        "print(num%x) # 3*5 =15"
      ],
      "execution_count": null,
      "outputs": [
        {
          "output_type": "stream",
          "text": [
            "2\n"
          ],
          "name": "stdout"
        }
      ]
    },
    {
      "cell_type": "code",
      "metadata": {
        "colab": {
          "base_uri": "https://localhost:8080/"
        },
        "id": "uR1e48Xq17hs",
        "outputId": "da822d58-fed9-46f1-a563-a8f704909fa5"
      },
      "source": [
        "name = input()\n",
        "\n",
        "print(\"Welcome,\"+ name)"
      ],
      "execution_count": null,
      "outputs": [
        {
          "output_type": "stream",
          "text": [
            "john\n",
            "Welcome,john\n"
          ],
          "name": "stdout"
        }
      ]
    }
  ]
}