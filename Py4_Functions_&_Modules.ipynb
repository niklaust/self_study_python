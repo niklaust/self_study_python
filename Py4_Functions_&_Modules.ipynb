{
  "nbformat": 4,
  "nbformat_minor": 0,
  "metadata": {
    "colab": {
      "name": "Py4_Functions_&_Modules.ipynb",
      "provenance": [],
      "collapsed_sections": []
    },
    "kernelspec": {
      "name": "python3",
      "display_name": "Python 3"
    }
  },
  "cells": [
    {
      "cell_type": "markdown",
      "metadata": {
        "id": "sqDmVkHVGb6o"
      },
      "source": [
        "**Reusing Code**\n",
        "\n",
        "**code reuse** is a very important part of programming in any language.\n",
        "Increasing code size makes it harder to maintain.\n",
        "\n",
        "Far a large programming project to be successful, it is essential to abide by the **Don't Repeat Yourself**, or **DRY**, principle. We've already looked at one way of doing this: by using loops. In this module, we will explore two more:\n",
        "- functions and\n",
        "- modules\n",
        "\n",
        "Bad, repetitive code is said to abide by the **WET** priciple, with stands for **Write Everything Twice**, or **We Enjoy Typing.**"
      ]
    },
    {
      "cell_type": "markdown",
      "metadata": {
        "id": "mEm4WGxPHWhn"
      },
      "source": [
        "**Functions**\n",
        "\n",
        "You've already used **functions** in previous lessons. Any statement that consists of a word followed by information in **parentheses** is a function call.\n",
        "\n",
        "Here are some examples that you've already seen:\n",
        "\n",
        "> print(\"Hello world!\")\n",
        "\n",
        "> range(2, 20)\n",
        "\n",
        "> str(12)\n",
        "\n",
        "> range(10, 20, 3)\n",
        "\n",
        "The words in front of the parentheses are function **names**, and the comma-separated values inside the parentheses are function **arguments.**"
      ]
    },
    {
      "cell_type": "code",
      "metadata": {
        "colab": {
          "base_uri": "https://localhost:8080/"
        },
        "id": "AAvjlaDpGUKW",
        "outputId": "6e22b55d-0d80-4a25-c894-c8c7660067c1"
      },
      "source": [
        "nums = range(0, 100, 5)\n",
        "\n",
        "print(len(nums))"
      ],
      "execution_count": null,
      "outputs": [
        {
          "output_type": "stream",
          "text": [
            "20\n"
          ],
          "name": "stdout"
        }
      ]
    },
    {
      "cell_type": "markdown",
      "metadata": {
        "id": "ZxpB13CpIvd3"
      },
      "source": [
        "**Functions**\n",
        "\n",
        "In addition to using pre-defined functions, you can create your own functions by using the **def** statement.\n",
        "\n",
        "Here is an example of a function name **my_func**. It takes no arguments, and print \"spam\" three times. It is defined, and then called. The statements in the function are executed only when the function is called.\n",
        "\n",
        "> def my_func():\n",
        "\n",
        ">> print(\"spam\")\n",
        "\n",
        ">> print(\"spam\")\n",
        "\n",
        ">> print(\"spam\")\n",
        "\n",
        "> my_func()\n",
        "\n",
        "The code block within every function starts with a colon (:) and is **indented**."
      ]
    },
    {
      "cell_type": "code",
      "metadata": {
        "colab": {
          "base_uri": "https://localhost:8080/"
        },
        "id": "r1397TteJcZm",
        "outputId": "42f5d765-18a3-42d1-881b-15c84212012b"
      },
      "source": [
        "def hello():\n",
        "  print(\"Hi!\")\n",
        "\n",
        "hello()"
      ],
      "execution_count": null,
      "outputs": [
        {
          "output_type": "stream",
          "text": [
            "Hi!\n"
          ],
          "name": "stdout"
        }
      ]
    },
    {
      "cell_type": "markdown",
      "metadata": {
        "id": "Zp47qMFNJnZ7"
      },
      "source": [
        "**Functions**\n",
        "\n",
        "You must define functions before they are called, in the same way that you must assign variables before usign them.\n",
        "\n",
        "> hello()\n",
        "\n",
        "> def hello():\n",
        "\n",
        ">>print(\"Hello world!\")\n",
        "\n",
        "> #Error\n"
      ]
    },
    {
      "cell_type": "code",
      "metadata": {
        "colab": {
          "base_uri": "https://localhost:8080/"
        },
        "id": "SMumqye_J9sm",
        "outputId": "a5536c5c-85c4-4fd4-b3b3-3b399220b537"
      },
      "source": [
        "def sayHi():\n",
        "  print(\"Hi!\")\n",
        "\n",
        "sayHi()"
      ],
      "execution_count": null,
      "outputs": [
        {
          "output_type": "stream",
          "text": [
            "Hi!\n"
          ],
          "name": "stdout"
        }
      ]
    },
    {
      "cell_type": "markdown",
      "metadata": {
        "id": "Pd-Idp4NKIYW"
      },
      "source": [
        "**Arguments**\n",
        "\n",
        "All the function definitins we've looked at so far have been functions of zero arguemnts, which are called with empty parentheses. However, most functions take arguemtns. The example below defines a function that takes one argument:\n",
        "\n",
        "> def print_with_exclamation(word):\n",
        "\n",
        ">> print(word + \"!\")\n",
        "\n",
        "> print_with_exclamation(\"spam\")\n",
        "\n",
        "> print_with_exclamation(\"eggs\")\n",
        "\n",
        "> print_with_exclamation(\"python\")\n",
        "\n",
        "As you can see, the argument is defined inside the parentheses."
      ]
    },
    {
      "cell_type": "code",
      "metadata": {
        "colab": {
          "base_uri": "https://localhost:8080/"
        },
        "id": "VEyqUEc6K0kO",
        "outputId": "d8a3eddb-2227-4fdf-bb66-a316aeb735fe"
      },
      "source": [
        "def print_double(x):\n",
        "  print(2 * x)\n",
        "\n",
        "print_double(3)"
      ],
      "execution_count": null,
      "outputs": [
        {
          "output_type": "stream",
          "text": [
            "6\n"
          ],
          "name": "stdout"
        }
      ]
    },
    {
      "cell_type": "code",
      "metadata": {
        "colab": {
          "base_uri": "https://localhost:8080/"
        },
        "id": "5tcjYdo6LBy1",
        "outputId": "8e5c8b97-3648-4fb7-941c-93951f0c963d"
      },
      "source": [
        "def print_twice(x):\n",
        "  print(2 * str(x))\n",
        "\n",
        "print_twice(3)  "
      ],
      "execution_count": null,
      "outputs": [
        {
          "output_type": "stream",
          "text": [
            "33\n"
          ],
          "name": "stdout"
        }
      ]
    },
    {
      "cell_type": "markdown",
      "metadata": {
        "id": "XVZEwVEQLMNV"
      },
      "source": [
        "**Arguments**\n",
        "\n",
        "You can also define functions with more than one argument; separate them with commas.\n",
        "\n",
        "> def print_sum_twice(x, y):\n",
        "\n",
        ">> print(x + y)\n",
        "\n",
        ">> print(x + y)\n",
        "\n",
        "> print_sum_twice(5, 8)\n",
        "\n",
        "> #13\n",
        "\n",
        "> #13"
      ]
    },
    {
      "cell_type": "code",
      "metadata": {
        "colab": {
          "base_uri": "https://localhost:8080/"
        },
        "id": "gg2N9C95LlG2",
        "outputId": "4d5488c1-01e4-454a-a971-9b388bc74d0b"
      },
      "source": [
        "def print_mult(x, y):\n",
        "  print(x * y)\n",
        "\n",
        "print_mult(4, 8)"
      ],
      "execution_count": null,
      "outputs": [
        {
          "output_type": "stream",
          "text": [
            "32\n"
          ],
          "name": "stdout"
        }
      ]
    },
    {
      "cell_type": "markdown",
      "metadata": {
        "id": "47C7L9jwL0Fd"
      },
      "source": [
        "**Arguments**\n",
        "\n",
        "Function arguments can be used as variables inside the function definition. However, they cannot be referenced outside of the function's definition. This also applies to other variables created inside a function.\n",
        "\n",
        "> def function(variable):\n",
        "\n",
        ">> variable += 1\n",
        "\n",
        ">> print(variable)\n",
        "\n",
        "> function(7)\n",
        "\n",
        "> print(variable)\n",
        "\n",
        "> #Error\n",
        "\n",
        "Technically, **parameters** are the variables in a function definition, and **arguments** are the values put into parameters when functions are called"
      ]
    },
    {
      "cell_type": "code",
      "metadata": {
        "colab": {
          "base_uri": "https://localhost:8080/"
        },
        "id": "s2MavkjtMln1",
        "outputId": "e2113c78-1b72-416d-ed6d-b20f1d58f410"
      },
      "source": [
        "def even(x):\n",
        "  if x%2 == 0:\n",
        "    print(\"Yes\")\n",
        "  else:\n",
        "    print(\"No\")\n",
        "    \n",
        "even(2)\n",
        "even(7)"
      ],
      "execution_count": null,
      "outputs": [
        {
          "output_type": "stream",
          "text": [
            "Yes\n",
            "No\n"
          ],
          "name": "stdout"
        }
      ]
    },
    {
      "cell_type": "markdown",
      "metadata": {
        "id": "o9sp7o43M449"
      },
      "source": [
        "**Returning for Funcitons**\n",
        "\n",
        "Certian functions, such as **int** or **str**, return a value that can be used later.\n",
        "\n",
        "To do this for your defined functions, you can use the **return** statement.\n",
        "\n",
        "**For example:**\n",
        "\n",
        "> def max(x, y):\n",
        "\n",
        ">> if x >= y:\n",
        "\n",
        ">>> return x\n",
        "\n",
        ">> else: \n",
        "\n",
        ">>> return y\n",
        "\n",
        "> print(max(4, 7))\n",
        "\n",
        "> z = max(8, 5)\n",
        "\n",
        "> print(z)\n",
        "\n",
        "> #7\n",
        "\n",
        "> #8\n",
        "\n",
        "The **return** statement cannot be used outside of a function definition.\n"
      ]
    },
    {
      "cell_type": "code",
      "metadata": {
        "colab": {
          "base_uri": "https://localhost:8080/",
          "height": 35
        },
        "id": "ua92FLNXNqPe",
        "outputId": "b9c7c660-57e4-4342-d78c-01e2d5856efd"
      },
      "source": [
        "def shortest_string(x,y):\n",
        "  if len(x) <= len(y):\n",
        "    return x\n",
        "  else:\n",
        "    return y\n",
        "\n",
        "shortest_string(\"hello world\", \"good morning\")"
      ],
      "execution_count": null,
      "outputs": [
        {
          "output_type": "execute_result",
          "data": {
            "application/vnd.google.colaboratory.intrinsic+json": {
              "type": "string"
            },
            "text/plain": [
              "'hello world'"
            ]
          },
          "metadata": {
            "tags": []
          },
          "execution_count": 12
        }
      ]
    },
    {
      "cell_type": "markdown",
      "metadata": {
        "id": "Iv6tScDBOFOp"
      },
      "source": [
        "**Returning from Functions**\n",
        "\n",
        "Once you return a value from a function, it immediately stops being executed. Any code after the **return** statement will never happen.\n",
        "\n",
        "**For example:**\n",
        "\n",
        "> def add_numbers(x, y):\n",
        "\n",
        ">> total = x + y\n",
        "\n",
        ">> return total\n",
        "\n",
        ">> print(\"This won't be printed\") # not print\n",
        "\n",
        "> print(add_numbers(4, 5))\n",
        "\n",
        "> #9"
      ]
    },
    {
      "cell_type": "code",
      "metadata": {
        "colab": {
          "base_uri": "https://localhost:8080/"
        },
        "id": "ZgCyhjaLOojn",
        "outputId": "602c6b1f-9fe1-46c9-848c-28de0c47f706"
      },
      "source": [
        "def print_numbers():\n",
        "  print(1)\n",
        "  print(2)\n",
        "  return \n",
        "  print(4)\n",
        "  print(6)\n",
        "\n",
        "print_numbers()"
      ],
      "execution_count": null,
      "outputs": [
        {
          "output_type": "stream",
          "text": [
            "1\n",
            "2\n"
          ],
          "name": "stdout"
        }
      ]
    },
    {
      "cell_type": "markdown",
      "metadata": {
        "id": "BnZxbqRVO6U-"
      },
      "source": [
        "**Comments**\n",
        "\n",
        "**Comments** are annotations to code used to make it easier to understand. They don't affect how code is run.\n",
        "\n",
        "In Python, a comment is created by inserting an **octothorpe** (otherwise known as a number sign or hash symbol: #). All text after it on that line is ignored. \n",
        "\n",
        "**For example:**\n",
        "\n",
        "> x = 365\n",
        "\n",
        "> y = 7\n",
        "\n",
        "> #this is a comment\n",
        "\n",
        "> print(x % y) #find the remainder\n",
        "\n",
        "> #print(x//y)\n",
        "\n",
        "> #another comment\n",
        "\n",
        "Python doesn't have general purpose multiline comments, as do programming languages such as C."
      ]
    },
    {
      "cell_type": "code",
      "metadata": {
        "colab": {
          "base_uri": "https://localhost:8080/"
        },
        "id": "ZCkHlJZ3O5-F",
        "outputId": "1870c1bd-0fb8-4dd4-de42-dd7556fca178"
      },
      "source": [
        "x = 8\n",
        "\n",
        "#printing x\n",
        "\n",
        "print(x)"
      ],
      "execution_count": null,
      "outputs": [
        {
          "output_type": "stream",
          "text": [
            "8\n"
          ],
          "name": "stdout"
        }
      ]
    },
    {
      "cell_type": "markdown",
      "metadata": {
        "id": "dizHcsTcP7sF"
      },
      "source": [
        "**Docstrings**\n",
        "\n",
        "**Docstrings** (documentation strings) serve a similar purpose to comments, as they are designed to explain code. However, they are more specific and have a different syntax. They are created by putting a multiline string containing and explanatin of the function below the **function's first line**\n",
        "\n",
        "> def shout(word):\n",
        "\n",
        ">> \"\"\"\n",
        "\n",
        ">> Print a word with an \n",
        "\n",
        ">> exclamation mark following it.\n",
        "\n",
        ">> \"\"\"\n",
        "\n",
        ">> print(word + \"!\")\n",
        "\n",
        "> shout(\"spam\")\n",
        "\n",
        "Unlike conventional comments, **docstrings** are retained throughout the runtime of the program. This allows the programmer to inspect these comments at run time."
      ]
    },
    {
      "cell_type": "code",
      "metadata": {
        "colab": {
          "base_uri": "https://localhost:8080/"
        },
        "id": "WS0nX8HHyRO5",
        "outputId": "c1679569-b489-4236-97a4-79ea8acecb35"
      },
      "source": [
        "def shout(word):\n",
        "  \"\"\"\n",
        "  print a word with an\n",
        "  exclamation mark following it\n",
        "  \"\"\"\n",
        "  print(word + \"!\")\n",
        "\n",
        "\n",
        "shout(\"spam\")\n",
        "print (shout.__doc__) # access docstrings"
      ],
      "execution_count": null,
      "outputs": [
        {
          "output_type": "stream",
          "text": [
            "spam!\n",
            "\n",
            "  print a word with an\n",
            "  exclamation mark following it\n",
            "  \n"
          ],
          "name": "stdout"
        }
      ]
    },
    {
      "cell_type": "markdown",
      "metadata": {
        "id": "LXMgcRctSDRN"
      },
      "source": [
        "**Functions**\n",
        "\n",
        "Although they are created differently from normal variables, **functions** are just like any other kind of value.\n",
        "\n",
        "They can be **assigned and reassigned to variables**, and later referenced by those names\n",
        "\n",
        "> def multiply(x, y):\n",
        "\n",
        ">> return x * y \n",
        "\n",
        "> a = 4\n",
        "\n",
        "> b = 7 \n",
        "\n",
        "> operation = multiply # assigned function to variables\n",
        "\n",
        "> print(operation(a, b))\n",
        "\n",
        "The example above assigned the function **multiply** to a variable **operation**. Now, the name operation can also be used to call the function."
      ]
    },
    {
      "cell_type": "code",
      "metadata": {
        "colab": {
          "base_uri": "https://localhost:8080/"
        },
        "id": "loXtRx7QTEKd",
        "outputId": "264d15d7-1aad-44a3-98ea-b38ed12091c6"
      },
      "source": [
        "def shout(word):\n",
        "  return word + \"!\"\n",
        "\n",
        "speak = shout\n",
        "output = speak(\"shout\")\n",
        "\n",
        "print(output)"
      ],
      "execution_count": null,
      "outputs": [
        {
          "output_type": "stream",
          "text": [
            "shout!\n"
          ],
          "name": "stdout"
        }
      ]
    },
    {
      "cell_type": "markdown",
      "metadata": {
        "id": "oyJwXMQ1TRG8"
      },
      "source": [
        "**Functions**\n",
        "\n",
        "Functions can also be used as **arguments** of other functions.\n",
        "\n",
        "> def add(x, y):\n",
        "\n",
        ">> return x + y\n",
        "\n",
        "> def do_twice(func, x, y):\n",
        "\n",
        ">> return func(func(x,y), func(x,y))\n",
        "\n",
        "> a = 5 \n",
        "\n",
        "> b = 10 \n",
        "\n",
        "> print(do_twice(add, a, b))\n",
        "\n",
        "As you can see, the function **do_twice** takes a function as its argument and calls it in its body."
      ]
    },
    {
      "cell_type": "code",
      "metadata": {
        "colab": {
          "base_uri": "https://localhost:8080/"
        },
        "id": "klsza6dmT3OV",
        "outputId": "8dc14ffd-fe57-41cb-d2c3-7d5cffa3a962"
      },
      "source": [
        "def add(x, y):\n",
        "  return x + y\n",
        "\n",
        "def do_twice(func, x, y):\n",
        "  return func(func(x,y), func(x,y))\n",
        "\n",
        "a = 5\n",
        "b = 10\n",
        "\n",
        "print(do_twice(add, a, b))"
      ],
      "execution_count": null,
      "outputs": [
        {
          "output_type": "stream",
          "text": [
            "30\n"
          ],
          "name": "stdout"
        }
      ]
    },
    {
      "cell_type": "code",
      "metadata": {
        "colab": {
          "base_uri": "https://localhost:8080/"
        },
        "id": "cJNeoxpXUhuM",
        "outputId": "8ee4acbd-90cb-488a-9566-3bde1345b3d6"
      },
      "source": [
        "def square(x):\n",
        "  return x * x\n",
        "\n",
        "def test(func, x):\n",
        "  print(func(x))\n",
        "\n",
        "test(square,42)"
      ],
      "execution_count": null,
      "outputs": [
        {
          "output_type": "stream",
          "text": [
            "1764\n"
          ],
          "name": "stdout"
        }
      ]
    },
    {
      "cell_type": "markdown",
      "metadata": {
        "id": "FQjbujSNUhWd"
      },
      "source": [
        "**Modules**\n",
        "\n",
        "**Modules** are pieces of code that other people have written to fulfill common tasks, such as generating random numbers, performing mathematical operations, etc.\n",
        "\n",
        "The basic way to use a module is to add **import module_name** at the top of your code, and then using **module_name.var** to access functions and values with the name **var** in the module.\n",
        "\n",
        "For example, the following example uses the random module to generate random numbers:\n",
        "\n",
        "> import random\n",
        "\n",
        "> for i in range(5):\n",
        "\n",
        ">> value = random.randint(1, 6)\n",
        "\n",
        ">> print(value)\n",
        "\n",
        "The code uses the **randint** function defined in the **random** module to print 5 random numbers in the range 1 to 6."
      ]
    },
    {
      "cell_type": "code",
      "metadata": {
        "colab": {
          "base_uri": "https://localhost:8080/"
        },
        "id": "4espw6iGV0yG",
        "outputId": "eee6e235-835f-4266-fccf-a9703abc24a5"
      },
      "source": [
        "import math\n",
        "\n",
        "num = 10\n",
        "\n",
        "print(math.sqrt(num))\n",
        "\n"
      ],
      "execution_count": null,
      "outputs": [
        {
          "output_type": "stream",
          "text": [
            "3.1622776601683795\n"
          ],
          "name": "stdout"
        }
      ]
    },
    {
      "cell_type": "markdown",
      "metadata": {
        "id": "aarrBw6nWKYO"
      },
      "source": [
        "**Modules**\n",
        "\n",
        "There is another kind of **import** that can be used if you only need certain functions from a module. \n",
        "\n",
        "These take the form **from module_name import var**, and then **var** can be used as if it were defined normally in your code.\n",
        "\n",
        "For example, to import only the **pi** constant from the **math** module:\n",
        "\n",
        "> from math import pi\n",
        "\n",
        "> print(pi)\n",
        "\n",
        "Use a **comma separated** list to import **multiple objects**. For example:\n",
        "\n",
        "> from math import pi, sqrt\n",
        "\n",
        "\\* impors all objects from a module. For example: \n",
        "> from math import *\n",
        "\n",
        "This is generally discouraged, as it confuses variables in your code with variables in the external module."
      ]
    },
    {
      "cell_type": "code",
      "metadata": {
        "colab": {
          "base_uri": "https://localhost:8080/"
        },
        "id": "164pQ1HWXInL",
        "outputId": "0904e8ed-16f6-46f6-ba60-df4ba59447d8"
      },
      "source": [
        "from math import sqrt, cos\n",
        "\n",
        "print(sqrt(4))\n",
        "print(cos(180))"
      ],
      "execution_count": null,
      "outputs": [
        {
          "output_type": "stream",
          "text": [
            "2.0\n",
            "-0.5984600690578581\n"
          ],
          "name": "stdout"
        }
      ]
    },
    {
      "cell_type": "markdown",
      "metadata": {
        "id": "vWuH0TKVXjtz"
      },
      "source": [
        "**Modules**\n",
        "\n",
        "Trying to import a module that isn't available causes an ImportError.\n",
        "\n",
        "> import some_module\n",
        "\n",
        "Trying to import a module that isn't available causes an ImportError."
      ]
    },
    {
      "cell_type": "markdown",
      "metadata": {
        "id": "ySonEQXQX2tD"
      },
      "source": [
        "**Modules**\n",
        "\n",
        "You can import a module or object under a different name using the **as** keyword. This is mainly used when a module or object has a long or confusing name.\n",
        "\n",
        "**For example:**\n",
        "\n",
        "> form math import sqrt as square_root\n",
        "\n",
        ">> print(square_root(100))\n",
        "\n",
        "> #10"
      ]
    },
    {
      "cell_type": "markdown",
      "metadata": {
        "id": "1m9wm3UYYUBs"
      },
      "source": [
        "**Modules**\n",
        "\n",
        "There are **three main types** of modules in Python, \n",
        "- those you write yourself, \n",
        "- those you install from external sources, and  \n",
        "- those that are preinstalled with Python.\n",
        "\n",
        "The last type is called the **standard library**, and contains many useful modules. Some of the standard library's useful modules include **string**, **re**, **datetime**, **math**, **random**, **os**, **multiprocessing**, **subprocess**, **socket**, **email**, **jason**, **doctest**, **unitest**, **pdb**, **argparse** and **sys**.\n",
        "\n",
        "Tasks that can be done by the standard library include string parsing, data serialization, testing, debagging and manipulating dates, emails, command line arguemtns, and much more!\n",
        "\n",
        "Python's extensive standard library is one of its main strengths as a language."
      ]
    },
    {
      "cell_type": "markdown",
      "metadata": {
        "id": "mdFwnNDmZS98"
      },
      "source": [
        "**The Standard Library**\n",
        "\n",
        "Some of the modules in the standard library are written in Python, and some are written in C.\n",
        "\n",
        "Most are available on all platforms, but some are Windows or Unix specific.\n",
        "\n",
        "We won't cover all of the modules in the standard library; there are simply too many. The complete documentation for the standard library is available online at www.python.org."
      ]
    },
    {
      "cell_type": "markdown",
      "metadata": {
        "id": "3rDJtIFIZ9jL"
      },
      "source": [
        "**Modules**\n",
        "\n",
        "Many third-party Python modules are stored on the **Python Package Index** **(PyPl)**.\n",
        "\n",
        "The best way to install these is usign a program called **pip**. This comes installed by default with modern distributions of Python. If you don't have it, it is easy to install online. Once you have it, installing libraries form PyPl is easy. Look up the name of the library you want to install, go to the command line (for Windows it will be the Command Prompt), and enter **pip install** **library_name** Once you've done this, import  the library and use it in your code.\n",
        "\n",
        "Using **pip** is the standard way of installing libraries on most operating systems, but some libraries have prebuilt binaries for Windows. These are normal executable files that let you install libraries with a GUI the same way you would install other programs.\n",
        "\n",
        "It's important to enter **pip** commands at the command line, not the Python interpreter."
      ]
    },
    {
      "cell_type": "code",
      "metadata": {
        "id": "LYB8PKuXbdvs"
      },
      "source": [
        "def min(x,y):\n",
        "  if x <= y:\n",
        "    return x \n",
        "  else:\n",
        "    return y"
      ],
      "execution_count": null,
      "outputs": []
    },
    {
      "cell_type": "code",
      "metadata": {
        "id": "XDWcqRXjbpXD",
        "colab": {
          "base_uri": "https://localhost:8080/"
        },
        "outputId": "e63c6b6f-6bbe-410f-8f3d-ee35a5bb3862"
      },
      "source": [
        "def sum(x):\n",
        "  res = 0\n",
        "  for i in range(x):\n",
        "    res += i\n",
        "  return res\n",
        "\n",
        "sum(10)"
      ],
      "execution_count": null,
      "outputs": [
        {
          "output_type": "execute_result",
          "data": {
            "text/plain": [
              "45"
            ]
          },
          "metadata": {
            "tags": []
          },
          "execution_count": 4
        }
      ]
    },
    {
      "cell_type": "code",
      "metadata": {
        "colab": {
          "base_uri": "https://localhost:8080/"
        },
        "id": "3PQtvNWdcZTL",
        "outputId": "d5ea77ca-a753-4bc8-8bff-0e33f49b4f5d"
      },
      "source": [
        "def print_nums(x):\n",
        "  for i in range(x):\n",
        "    print(i)\n",
        "  return \n",
        "\n",
        "print_nums(10)"
      ],
      "execution_count": null,
      "outputs": [
        {
          "output_type": "stream",
          "text": [
            "0\n",
            "1\n",
            "2\n",
            "3\n",
            "4\n",
            "5\n",
            "6\n",
            "7\n",
            "8\n",
            "9\n"
          ],
          "name": "stdout"
        }
      ]
    },
    {
      "cell_type": "code",
      "metadata": {
        "colab": {
          "base_uri": "https://localhost:8080/"
        },
        "id": "u-7Eua6Fcs9c",
        "outputId": "b519759d-a8e7-490e-eaee-d85ac36eb9cc"
      },
      "source": [
        "def func(x):\n",
        "  res = 0\n",
        "  for i in range(x):\n",
        "    res += i \n",
        "  return res\n",
        "\n",
        "print(func(4))"
      ],
      "execution_count": null,
      "outputs": [
        {
          "output_type": "stream",
          "text": [
            "6\n"
          ],
          "name": "stdout"
        }
      ]
    }
  ]
}