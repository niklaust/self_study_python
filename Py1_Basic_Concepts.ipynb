{
  "nbformat": 4,
  "nbformat_minor": 0,
  "metadata": {
    "colab": {
      "name": "Py1_Basic_Concepts.ipynb",
      "provenance": [],
      "collapsed_sections": []
    },
    "kernelspec": {
      "name": "python3",
      "display_name": "Python 3"
    }
  },
  "cells": [
    {
      "cell_type": "markdown",
      "metadata": {
        "id": "JyhDhNAieQof"
      },
      "source": [
        "**Python** is a **high-level programming language**, with applications in numerous areas, including: \n",
        "- web programming, \n",
        "- scripting, \n",
        "- scientific computing, and \n",
        "- artificial intelligence. \n",
        "\n",
        "It is very popular and used by organizations such as Google, NASA, the CIA and Disney."
      ]
    },
    {
      "cell_type": "markdown",
      "metadata": {
        "id": "VnpJWdQPer84"
      },
      "source": [
        "**Printing Text**\n",
        "\n",
        "Let's start off by creating a short program that displays \"Hello world!\". \n",
        "\n",
        "In Python, we use **print** statment to output text.\n",
        "\n",
        "> print('text')\n",
        "\n",
        "\n",
        "The **print** statement needs to be followed by parentheses (), which enclose the output we want to generate.\n"
      ]
    },
    {
      "cell_type": "code",
      "metadata": {
        "colab": {
          "base_uri": "https://localhost:8080/"
        },
        "id": "Vp00g9jGeP1f",
        "outputId": "e43f0d1c-5c44-4d04-da8a-31388b77f9de"
      },
      "source": [
        "print('Hello world!')"
      ],
      "execution_count": null,
      "outputs": [
        {
          "output_type": "stream",
          "text": [
            "Hello world!\n"
          ],
          "name": "stdout"
        }
      ]
    },
    {
      "cell_type": "markdown",
      "metadata": {
        "id": "WcaPtJIGfgVX"
      },
      "source": [
        "**Printing Text**\n",
        "\n",
        "The **print** statement can also be used to output multiple lines of text\n",
        "\n",
        ">print('Hello world!')\n",
        "\n",
        ">print('Hello world!')\n",
        "\n",
        ">print('Spam and eggs...')\n",
        "\n",
        "Each print statement output text from a new line.\n",
        "\n",
        "Python code often contains references to the comedy group **Monty Python**. This is why the words, \"spam\" and \"eggs\" and often used as placeholder variables in Python \n",
        "\n",
        "where \"foo\" and \"bar\" would be used in other programming languages.\n"
      ]
    },
    {
      "cell_type": "code",
      "metadata": {
        "colab": {
          "base_uri": "https://localhost:8080/"
        },
        "id": "PoI2cZt0gcH-",
        "outputId": "0f76a448-c152-4402-eb59-d5a93c23c2e5"
      },
      "source": [
        "print(\"A\")\n",
        "print(\"B\")\n",
        "print(\"C\")"
      ],
      "execution_count": null,
      "outputs": [
        {
          "output_type": "stream",
          "text": [
            "A\n",
            "B\n",
            "C\n"
          ],
          "name": "stdout"
        }
      ]
    },
    {
      "cell_type": "markdown",
      "metadata": {
        "id": "JFgnHQHggezO"
      },
      "source": [
        "**Simple Operations**\n",
        "\n",
        "Python has the capability of carrying out calculations. \n",
        "\n",
        "Enter a calculation directly into the print statement:\n",
        "\n",
        ">print(2+2)\n",
        "\n",
        ">print(5 + 4 -3) \n",
        "\n",
        "The spaces around the plus and minus signs here are **optional** (the code would work without them) , but they make it easier to read."
      ]
    },
    {
      "cell_type": "code",
      "metadata": {
        "id": "ZLzPFNJrHvib",
        "colab": {
          "base_uri": "https://localhost:8080/"
        },
        "outputId": "fb253590-8242-48c2-c391-e3da1b658e60"
      },
      "source": [
        "print(1+0+1+0)"
      ],
      "execution_count": null,
      "outputs": [
        {
          "output_type": "stream",
          "name": "stdout",
          "text": [
            "2\n"
          ]
        }
      ]
    },
    {
      "cell_type": "code",
      "metadata": {
        "colab": {
          "base_uri": "https://localhost:8080/"
        },
        "id": "ee9XgPUxhBMt",
        "outputId": "0d888dbe-1667-4861-b2fb-dcc4bfe75c59"
      },
      "source": [
        "print(1 + 2 + 3)"
      ],
      "execution_count": null,
      "outputs": [
        {
          "output_type": "stream",
          "text": [
            "6\n"
          ],
          "name": "stdout"
        }
      ]
    },
    {
      "cell_type": "markdown",
      "metadata": {
        "id": "Ig0BoBSFhID8"
      },
      "source": [
        "**Simple Operations**\n",
        "\n",
        "Python also carries out multiplication and division, using an **Asterisk** *   **/** to indicate division.\n",
        "\n",
        "Use **parentheses** to determine which operations are **performed first**.\n",
        "\n",
        "Using a sigle slash to divide numbers produces a decimal ( or **float**, as it called in programming). "
      ]
    },
    {
      "cell_type": "code",
      "metadata": {
        "colab": {
          "base_uri": "https://localhost:8080/"
        },
        "id": "XRFX1nBbh6Oc",
        "outputId": "cfba8ebf-f267-491b-d2f2-7d5d9111efda"
      },
      "source": [
        "#Simple Operations \n",
        "\n",
        "#Write a program that will multiply the sum of 5 and 6 by 10\n",
        "\n",
        "print((5 + 6)*10)"
      ],
      "execution_count": null,
      "outputs": [
        {
          "output_type": "stream",
          "text": [
            "110\n"
          ],
          "name": "stdout"
        }
      ]
    },
    {
      "cell_type": "code",
      "metadata": {
        "colab": {
          "base_uri": "https://localhost:8080/"
        },
        "id": "mGQuMK9fiV4G",
        "outputId": "65c5a8cc-06de-4e71-86bf-64b8dd4adce2"
      },
      "source": [
        "print((4+8)/2)"
      ],
      "execution_count": null,
      "outputs": [
        {
          "output_type": "stream",
          "text": [
            "6.0\n"
          ],
          "name": "stdout"
        }
      ]
    },
    {
      "cell_type": "markdown",
      "metadata": {
        "id": "g89iovNliVkE"
      },
      "source": [
        "**Floats**\n",
        "\n",
        "**Floats** are used in Python to represent numbers that **aren't integers**(whole numbers).\n",
        "\n",
        "Some examples of numbers that are represented as floats are 0.5 and -7.8237591\n",
        "\n",
        "They can be created directly by \n",
        "- entering a number with a decimal point, or \n",
        "\n",
        "> print(0.42)\n",
        "\n",
        "- by using operations such as division on integers.\n",
        "\n",
        "> print(3/4)\n",
        "\n",
        "Computers can't store floats perfectly accurately, in the same way that we can't write down the complete decimal expansion of 1/3 ( 0.3333333333333333333...). \n",
        "Keep this in mind, because it often leads to infuriating bugs!"
      ]
    },
    {
      "cell_type": "markdown",
      "metadata": {
        "id": "Y3HV_5i3jclv"
      },
      "source": [
        "**Floats**\n",
        "\n",
        "As you saw previously, \n",
        "\n",
        "- dividing any two integers produces a **float**. \n",
        "\n",
        "> print(8/2)\n",
        "\n",
        "- A float is also produced by running an operation on two floats, or \n",
        "\n",
        "> print(6.0 * 7.0)\n",
        "\n",
        "- on a float and an integer.\n",
        "\n",
        "> print( 4 + 1.65)\n",
        "\n",
        "A float can be added to an integer, because Python silently converts the integer to a float."
      ]
    },
    {
      "cell_type": "code",
      "metadata": {
        "colab": {
          "base_uri": "https://localhost:8080/"
        },
        "id": "jCPc0cZTkRnm",
        "outputId": "870d13b6-aac2-45b2-807e-01e0e31d6f24"
      },
      "source": [
        "print(1 + 2 + 3 + 4.0 + 5)"
      ],
      "execution_count": null,
      "outputs": [
        {
          "output_type": "stream",
          "text": [
            "15.0\n"
          ],
          "name": "stdout"
        }
      ]
    },
    {
      "cell_type": "markdown",
      "metadata": {
        "id": "GesW-u0VkYOE"
      },
      "source": [
        "**Exponentiation**\n",
        "\n",
        "Besides addition, subtraction, multiplication, and division, Python also supports **exponentiation**, which is the raising of one number to the power of another. \n",
        "\n",
        "This operation is performed **using two asterisks**.\n",
        "\n",
        "> print(2**5)\n",
        "\n",
        "You can chain exponentiations together. In other words, you can rise a number to multiple powers. \n",
        "\n",
        "\n",
        "For example, 2 ** 3 ** 2"
      ]
    },
    {
      "cell_type": "code",
      "metadata": {
        "colab": {
          "base_uri": "https://localhost:8080/"
        },
        "id": "OM_bjLpDlLWm",
        "outputId": "83bea491-17e2-4b43-adde-9eca887985b3"
      },
      "source": [
        "print(5**3)"
      ],
      "execution_count": null,
      "outputs": [
        {
          "output_type": "stream",
          "text": [
            "125\n"
          ],
          "name": "stdout"
        }
      ]
    },
    {
      "cell_type": "code",
      "metadata": {
        "colab": {
          "base_uri": "https://localhost:8080/"
        },
        "id": "UJElNbdiIgJB",
        "outputId": "7959d098-d4c3-48e4-a09b-f5762d59357e"
      },
      "source": [
        "print(2**3**2)"
      ],
      "execution_count": null,
      "outputs": [
        {
          "output_type": "stream",
          "text": [
            "512\n"
          ],
          "name": "stdout"
        }
      ]
    },
    {
      "cell_type": "code",
      "metadata": {
        "colab": {
          "base_uri": "https://localhost:8080/"
        },
        "id": "-7UG5LFDHhli",
        "outputId": "b419dd56-932f-48a9-a7e8-3689a7d098b7"
      },
      "source": [
        "print(2**9)"
      ],
      "execution_count": null,
      "outputs": [
        {
          "output_type": "stream",
          "name": "stdout",
          "text": [
            "512\n"
          ]
        }
      ]
    },
    {
      "cell_type": "markdown",
      "metadata": {
        "id": "cS-dZnh9lfXl"
      },
      "source": [
        "**Exponentiation**\n",
        "\n",
        "You can also use floats in exponentiation.\n",
        "\n",
        "For example, the following code will result in the square root of 9:\n",
        "\n",
        "> print(9**(1/2))\n",
        "\n",
        "Note that the result will be a **float.**"
      ]
    },
    {
      "cell_type": "code",
      "metadata": {
        "colab": {
          "base_uri": "https://localhost:8080/"
        },
        "id": "TXMNKShHl2l1",
        "outputId": "7d789184-f33f-479b-ebc7-3705d637af85"
      },
      "source": [
        "print(8**(1/3))"
      ],
      "execution_count": null,
      "outputs": [
        {
          "output_type": "stream",
          "text": [
            "2.0\n"
          ],
          "name": "stdout"
        }
      ]
    },
    {
      "cell_type": "markdown",
      "metadata": {
        "id": "SmDaJmU1mCAy"
      },
      "source": [
        "**Quotient**\n",
        "\n",
        "**Floor division** is done using two forward slashes and is used to determine the **quotient** of a division (the quantity produced by the division of two numbers).\n",
        "\n",
        "> print(20//6)\n",
        "\n",
        "The code above will output 3, because 6 goes into 20 three times.\n",
        "\n",
        "You can also use floor division on floats.\n"
      ]
    },
    {
      "cell_type": "code",
      "metadata": {
        "colab": {
          "base_uri": "https://localhost:8080/"
        },
        "id": "gzijFx4emnL2",
        "outputId": "34caf3c5-157e-49ff-cf8f-9d3d040605bb"
      },
      "source": [
        "print(10//4)"
      ],
      "execution_count": null,
      "outputs": [
        {
          "output_type": "stream",
          "text": [
            "2\n"
          ],
          "name": "stdout"
        }
      ]
    },
    {
      "cell_type": "markdown",
      "metadata": {
        "id": "uMv1hSSfmsB7"
      },
      "source": [
        "**Remainder**\n",
        "\n",
        "The **modulo operator** is carried out with a percent symbol (%) and is used to get the **remainder** of a division.\n",
        "\n",
        "> print(20 % 6)\n",
        "\n",
        "> print(1.25 % 0.5)\n",
        "\n",
        "All numerical operators can also be used with floats"
      ]
    },
    {
      "cell_type": "code",
      "metadata": {
        "colab": {
          "base_uri": "https://localhost:8080/"
        },
        "id": "93z6_2kZmBsL",
        "outputId": "faa9ef3c-ebc0-4305-f4ab-e172b5594e65"
      },
      "source": [
        "print(7%(5//2))"
      ],
      "execution_count": null,
      "outputs": [
        {
          "output_type": "stream",
          "text": [
            "1\n"
          ],
          "name": "stdout"
        }
      ]
    },
    {
      "cell_type": "code",
      "metadata": {
        "colab": {
          "base_uri": "https://localhost:8080/"
        },
        "id": "VwJVYN_enesl",
        "outputId": "9215e8a8-a62d-4088-95d9-f88b57c007e7"
      },
      "source": [
        "print(1+4*3)"
      ],
      "execution_count": null,
      "outputs": [
        {
          "output_type": "stream",
          "text": [
            "13\n"
          ],
          "name": "stdout"
        }
      ]
    },
    {
      "cell_type": "code",
      "metadata": {
        "id": "4Kt1XpGgnlCG",
        "colab": {
          "base_uri": "https://localhost:8080/"
        },
        "outputId": "1a90bd9e-ebca-4b34-c012-9ba72109bf48"
      },
      "source": [
        "print(\"I love Python\")"
      ],
      "execution_count": null,
      "outputs": [
        {
          "output_type": "stream",
          "name": "stdout",
          "text": [
            "I love Python\n"
          ]
        }
      ]
    },
    {
      "cell_type": "code",
      "metadata": {
        "colab": {
          "base_uri": "https://localhost:8080/"
        },
        "id": "hSExwaARnsPl",
        "outputId": "2d31b83a-82bf-427e-e75b-37bf5310d40f"
      },
      "source": [
        "print((3**2)//2)"
      ],
      "execution_count": null,
      "outputs": [
        {
          "output_type": "stream",
          "text": [
            "4\n"
          ],
          "name": "stdout"
        }
      ]
    },
    {
      "cell_type": "code",
      "metadata": {
        "colab": {
          "base_uri": "https://localhost:8080/"
        },
        "id": "JluPsCxEn6_u",
        "outputId": "0a0e7ca3-3762-4658-a9d8-fb7bcaa0d740"
      },
      "source": [
        "print(100//42) #quotient"
      ],
      "execution_count": null,
      "outputs": [
        {
          "output_type": "stream",
          "text": [
            "2\n"
          ],
          "name": "stdout"
        }
      ]
    },
    {
      "cell_type": "code",
      "metadata": {
        "colab": {
          "base_uri": "https://localhost:8080/"
        },
        "id": "oOVjtVW_oEWo",
        "outputId": "05d1745d-08bb-4a49-867a-03971ad50a90"
      },
      "source": [
        "print(10**5)"
      ],
      "execution_count": null,
      "outputs": [
        {
          "output_type": "stream",
          "text": [
            "100000\n"
          ],
          "name": "stdout"
        }
      ]
    }
  ]
}