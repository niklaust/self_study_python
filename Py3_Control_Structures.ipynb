{
  "nbformat": 4,
  "nbformat_minor": 0,
  "metadata": {
    "colab": {
      "name": "Py3_Control_Structures.ipynb",
      "provenance": [],
      "collapsed_sections": []
    },
    "kernelspec": {
      "name": "python3",
      "display_name": "Python 3"
    }
  },
  "cells": [
    {
      "cell_type": "markdown",
      "metadata": {
        "id": "fCfMtc4u4ATY"
      },
      "source": [
        "**Boolearns**\n",
        "\n",
        "Anothertype in Python is the **Boolean** type. There are two boolearn values:\n",
        "- **True**\n",
        "- **False**.\n",
        "\n",
        "They can be created by **comparing values**, for instance by using the equal operator **==**.\n",
        "\n",
        "> my_booleran = True\n",
        "\n",
        "> print(my_boolean)\n",
        "\n",
        "> #True\n",
        "\n",
        "> print(2==3)\n",
        "\n",
        "> #false\n",
        "\n",
        "> print(\"hello\" == \"hello\")\n",
        "\n",
        "> #True\n",
        "\n",
        "Be careful not to confuse assignment **\"=\"** (one equals sign) with comparison **\"==\"** (two equals signs).\n"
      ]
    },
    {
      "cell_type": "markdown",
      "metadata": {
        "id": "qheqaZy95D4f"
      },
      "source": [
        "**Comparision** \n",
        "\n",
        "Another comparison operator, the **not equal** operator **(!=)**, \n",
        "\n",
        "evaluates to **True** if the items being compared **aren't equal**, and False if they are.\n",
        "\n",
        "> print(1 != 1)\n",
        "\n",
        "> #False \n",
        "\n",
        "> print(\"eleven\" != \"seven\")\n",
        "\n",
        "> #True\n",
        "\n",
        "> print(2 != 10)\n",
        "\n",
        "> #True\n",
        "\n",
        "Comparison operators are also called **Relational operators.** \n"
      ]
    },
    {
      "cell_type": "code",
      "metadata": {
        "colab": {
          "base_uri": "https://localhost:8080/"
        },
        "id": "JNTEaNMT3LnT",
        "outputId": "abff7f5d-43a7-4db4-ef30-a1e1ab01a714"
      },
      "source": [
        "print(7 != 8)"
      ],
      "execution_count": null,
      "outputs": [
        {
          "output_type": "stream",
          "text": [
            "True\n"
          ],
          "name": "stdout"
        }
      ]
    },
    {
      "cell_type": "markdown",
      "metadata": {
        "id": "a0l1usAx5-bP"
      },
      "source": [
        "**Comparison**\n",
        "\n",
        "Python also has operators that determine whether one number (float or integer) is \n",
        "- greater than  **\">\"**\n",
        "- smaller than  **\"<\"**\n",
        "\n",
        "> print( 7 > 5 )\n",
        "\n",
        "> #True\n",
        "\n",
        "> print( 10 < 10 )\n",
        "\n",
        "> #False\n",
        "\n",
        "Different numeric types can also be compared, for example, integer and float."
      ]
    },
    {
      "cell_type": "code",
      "metadata": {
        "colab": {
          "base_uri": "https://localhost:8080/"
        },
        "id": "nijGht8p6qLf",
        "outputId": "4015f8cc-5cdf-4dad-fed1-d33b2a0aa16b"
      },
      "source": [
        "print( 7 > 7.0)"
      ],
      "execution_count": null,
      "outputs": [
        {
          "output_type": "stream",
          "text": [
            "False\n"
          ],
          "name": "stdout"
        }
      ]
    },
    {
      "cell_type": "markdown",
      "metadata": {
        "id": "Fdf_xOHb6vI0"
      },
      "source": [
        "**Comparision**\n",
        "\n",
        "- The greater than or equal to **\">=\"**\n",
        "- The smaller than or equal to **\"<=\"**\n",
        "\n",
        "They are the same as the strict greater than and smaller than operators, except that they return **True** when **comparing equal numbers**.\n",
        "\n",
        "> print(7 <= 8)\n",
        "\n",
        "> #True\n",
        "\n",
        "> print(9 >= 9.0)\n",
        "\n",
        "> #True\n",
        "\n",
        "Greater than and smaller than operators can also be used to compare strings **lexicographically** (The alphabetical order of words is based on the alphabetical order of their componenet letters).\n",
        "\n",
        "**For example:**\n",
        "\n",
        "> print(\"Annie\" > \"Andy\")\n",
        "\n",
        "> #True\n",
        "\n",
        "The first two characters from \"Annie\" and \"Andy\" (A and A) are compared. As they are equal, the second two characters are compared. Because they are also equal, the thrid two characters (n and d) are compared. And because n has greater alphabetical order value than d, \"Annie\" is greater than \"Andy\"."
      ]
    },
    {
      "cell_type": "code",
      "metadata": {
        "colab": {
          "base_uri": "https://localhost:8080/"
        },
        "id": "izVj8GxA8TB_",
        "outputId": "3dbef419-c4f3-477e-8651-9e2016f1f96f"
      },
      "source": [
        "print(8.7 <= 8.70)"
      ],
      "execution_count": null,
      "outputs": [
        {
          "output_type": "stream",
          "text": [
            "True\n"
          ],
          "name": "stdout"
        }
      ]
    },
    {
      "cell_type": "markdown",
      "metadata": {
        "id": "GdAxMnxW8aTM"
      },
      "source": [
        "**if Statements**\n",
        "\n",
        "You can use if statements to run code if a certain condition holds. if an expression evaluates to True, some statements are carried out. Otherwise, they aren't carried out.\n",
        "\n",
        "An if statement looks like this:\n",
        "\n",
        "> if expression: \n",
        ">> statements\n",
        "\n",
        "Python uses indentation (white space at the beginning of a line) to delimit blocks of code. Depending on program's logic, indentation can be mandatory. As you can see, the statements in the if should be indented."
      ]
    },
    {
      "cell_type": "markdown",
      "metadata": {
        "id": "g6W0MycI9CX2"
      },
      "source": [
        "**if Statements**\n",
        "\n",
        "Here is an example if statement:\n",
        "\n",
        "> if 10 > 5:\n",
        ">> print(\"10 greater than 5\")\n",
        "\n",
        "> print(\"Program ended\")\n",
        "\n",
        "The expression determines whether 10 is greater than 5. Since it is, the indented statement runs, and \"10 greater than 5\" is output. Then, the unindented statement, which is not part of the if statement, is run, and \"Program ended\" is displayed.\n",
        "\n",
        "Notice the **colon** at the end of the expression in the if statement."
      ]
    },
    {
      "cell_type": "code",
      "metadata": {
        "colab": {
          "base_uri": "https://localhost:8080/"
        },
        "id": "mTqClty_9zHv",
        "outputId": "804f38d2-1a76-46b6-be89-81f9d8bda087"
      },
      "source": [
        "spam = 7 \n",
        "if spam > 5:\n",
        "  print(\"five\")\n",
        "if spam > 8:\n",
        "  print(\"eight\")"
      ],
      "execution_count": null,
      "outputs": [
        {
          "output_type": "stream",
          "text": [
            "five\n"
          ],
          "name": "stdout"
        }
      ]
    },
    {
      "cell_type": "markdown",
      "metadata": {
        "id": "OGD7dkJe99IT"
      },
      "source": [
        "**if Statements**\n",
        "\n",
        "To perform more complex checks, if statements can be nested, one inside the other. \n",
        "\n",
        "This means that the inner if statement is the statement part of the outer one. This is one way to see whether multiple conditions are satisfied.\n",
        "\n",
        "For example:\n",
        "\n",
        "> num = 12\n",
        "\n",
        "> if num > 5:\n",
        ">> print(\"Bigger than 5\")\n",
        "\n",
        ">> if num <= 47:\n",
        ">>>print(\"Between 5 and 47\")\n",
        "\n",
        "**Indentation** is used to define the level of nesting."
      ]
    },
    {
      "cell_type": "code",
      "metadata": {
        "colab": {
          "base_uri": "https://localhost:8080/"
        },
        "id": "LZaB-b1e-x9f",
        "outputId": "20b7dfd9-5974-45b5-8a27-48326cefede9"
      },
      "source": [
        "num = 7\n",
        "if num > 3:\n",
        "  print(\"3\")\n",
        "  if num < 5:\n",
        "    print(\"5\")\n",
        "    if num == 7:\n",
        "      print(\"7\")"
      ],
      "execution_count": null,
      "outputs": [
        {
          "output_type": "stream",
          "text": [
            "3\n"
          ],
          "name": "stdout"
        }
      ]
    },
    {
      "cell_type": "markdown",
      "metadata": {
        "id": "M8BdQo-s_D6D"
      },
      "source": [
        "**else Statements**\n",
        "\n",
        "The **if statemen**t allows you to check a condition and run some statements, if the **condition is True**.\n",
        "\n",
        "The **else statement** can be used to run some statements when then condition of the if **statement is False**.\n",
        "\n",
        "As with if statements, the code inside the block should be indented.\n",
        "\n",
        "> x = 4\n",
        "\n",
        "> if x == 5:\n",
        ">> print(\"Yes\")\n",
        "\n",
        ">else:\n",
        ">> print(\"No\")\n",
        "\n",
        "Notice the colon after the else keyword."
      ]
    },
    {
      "cell_type": "code",
      "metadata": {
        "colab": {
          "base_uri": "https://localhost:8080/"
        },
        "id": "Mlg8WwxR_sUu",
        "outputId": "90ae8db8-d6a3-457c-8ac8-6a9ade6cfe2d"
      },
      "source": [
        "if 1 + 1 == 2:\n",
        "  if 2*2 == 8:\n",
        "    print(\"if\")\n",
        "  else:\n",
        "    print(\"else\")"
      ],
      "execution_count": null,
      "outputs": [
        {
          "output_type": "stream",
          "text": [
            "else\n"
          ],
          "name": "stdout"
        }
      ]
    },
    {
      "cell_type": "markdown",
      "metadata": {
        "id": "EEs9YQq0_3RV"
      },
      "source": [
        "**else Statements**\n",
        "\n",
        "Every if condition block can have only one else statement.\n",
        "\n",
        "In order to make multiple checks, you can chain if and else statement.\n",
        "\n",
        "For example, the following program checks and outputs the num variable's value as text:\n",
        "\n",
        "> num = 3\n",
        "\n",
        "> if num == 1:\n",
        ">> print(\"One\")\n",
        "\n",
        "> else:\n",
        ">> if num == 2:\n",
        ">>> print(\"Two\")\n",
        "\n",
        ">> else:\n",
        ">>> if num == 3:\n",
        ">>>> print(\"Three\")\n",
        "\n",
        ">>> else:\n",
        ">>>> print(\"Something else\")\n",
        "\n",
        "Indentation determines which **if/else** statements the code blocks belong to."
      ]
    },
    {
      "cell_type": "code",
      "metadata": {
        "colab": {
          "base_uri": "https://localhost:8080/"
        },
        "id": "uAHpo-vsQ68J",
        "outputId": "033ca4da-bbfc-4203-f54a-224b2a19d1c2"
      },
      "source": [
        "num = 3\n",
        "if num == 1:\n",
        "  print(\"One\")\n",
        "else:\n",
        "  if num == 2:\n",
        "    print(\"Two\")\n",
        "  else:\n",
        "    if num == 3:\n",
        "      print(\"Three\")\n",
        "    else:\n",
        "      print(\"Something else\")"
      ],
      "execution_count": null,
      "outputs": [
        {
          "output_type": "stream",
          "text": [
            "Three\n"
          ],
          "name": "stdout"
        }
      ]
    },
    {
      "cell_type": "code",
      "metadata": {
        "colab": {
          "base_uri": "https://localhost:8080/"
        },
        "id": "3Wy_tiBtBB3e",
        "outputId": "ebd7f189-d7cb-4f9e-aacd-f1bc5313c429"
      },
      "source": [
        "x = 10\n",
        "y = 20\n",
        "\n",
        "if x > y:\n",
        "  print(\"if statement\")\n",
        "else:\n",
        "  print(\"else statement\")"
      ],
      "execution_count": null,
      "outputs": [
        {
          "output_type": "stream",
          "text": [
            "else statement\n"
          ],
          "name": "stdout"
        }
      ]
    },
    {
      "cell_type": "markdown",
      "metadata": {
        "id": "6fLzYdWtBMut"
      },
      "source": [
        "**elif Statements**\n",
        "\n",
        "Multiple if/else statements make the code long and not very readable.\n",
        "\n",
        "The elif (short for else if) statement is a shortcut ot use when chaining if and else statements, making the code shorter. \n",
        "\n",
        "The same example from the previous part can be rewritten using elif statements:\n",
        "\n",
        "\n",
        "> num = 3\n",
        "\n",
        "> if num == 1:\n",
        ">> print(\"One\")\n",
        "\n",
        "> elif num == 2:\n",
        ">> print(\"Two)\n",
        "\n",
        "> elif num == 3:\n",
        ">> print(\"Three\")\n",
        "\n",
        "> else:\n",
        ">> print(\"Something else\")\n",
        "\n",
        "As you can see in the example above, a series of if elif statements can have a **final** **else** block, which is called if **none of the if or elif expressions is True**.\n",
        "\n",
        "The **elif** statement is **equivalent** to an else/if statement. It is used to make the code shorter, more readable, and avoid indentation increase.\n"
      ]
    },
    {
      "cell_type": "code",
      "metadata": {
        "colab": {
          "base_uri": "https://localhost:8080/"
        },
        "id": "nB6V1JnARR1S",
        "outputId": "dd0e7226-6ea5-4243-e3ba-0499c1d9e3e4"
      },
      "source": [
        "num = 3\n",
        "if num == 1:\n",
        "  print(\"One\")\n",
        "elif num == 2:\n",
        "  print(\"Two\")\n",
        "elif num == 3:\n",
        "  print(\"Three\")\n",
        "else:\n",
        "  print(\"Something else\")"
      ],
      "execution_count": null,
      "outputs": [
        {
          "output_type": "stream",
          "text": [
            "Three\n"
          ],
          "name": "stdout"
        }
      ]
    },
    {
      "cell_type": "markdown",
      "metadata": {
        "id": "m2rzq3brDGc1"
      },
      "source": [
        "**Boolean Logic**\n",
        "\n",
        "**Boolean logic** is used to make more complicated conditions for if statements that rely on more than one condition.\n",
        "\n",
        "Python's Boolean operators are \n",
        "- and \n",
        "- or \n",
        "- not\n",
        "\n",
        "The **and** operator takes two arguments, and evaluates and **True**, if, and only if, **both of its arguments are True**. Otherwise, it evaluates to False.\n",
        "\n",
        "> print(1 == 1 and 2 == 2)\n",
        "\n",
        "> #True\n",
        "\n",
        "> print(1 == 1 and 2 == 3)\n",
        "\n",
        "> #False\n",
        "\n",
        "> print(1 != 1 and 2 == 2) \n",
        "\n",
        "> #False\n",
        "\n",
        "> print(2 < 1 and 3 > 6)\n",
        "\n",
        "> #False\n",
        "\n",
        "Boolean operator can be used in expression as many times as needed."
      ]
    },
    {
      "cell_type": "code",
      "metadata": {
        "colab": {
          "base_uri": "https://localhost:8080/"
        },
        "id": "h-HL1DsrDF52",
        "outputId": "6eccb424-03c9-4693-d96d-579eb47fca43"
      },
      "source": [
        "if (1==1) and (2+2>3):\n",
        "  print(\"true\")\n",
        "else:\n",
        "  print(\"false\")"
      ],
      "execution_count": null,
      "outputs": [
        {
          "output_type": "stream",
          "text": [
            "true\n"
          ],
          "name": "stdout"
        }
      ]
    },
    {
      "cell_type": "markdown",
      "metadata": {
        "id": "HKqmH7LtEXkl"
      },
      "source": [
        "**Boolean Or**\n",
        "\n",
        "The **or** operator also takes two arguments. It evaluates to **True** if **either** **(or both)** of its arguemnts are **True**, and False if both arguments are False\n",
        "\n",
        "> print(1 == 1 or 2 == 2)\n",
        "> #True\n",
        "\n",
        "> print(1 == 1 or 2 == 3)\n",
        "> #True\n",
        "\n",
        "> print(1 != 1 or 2 == 2)\n",
        "> #True\n",
        "\n",
        "> print(2 < 1 or 3 > 6)\n",
        "> #False\n",
        "\n",
        "Besides values, you can also compare variables."
      ]
    },
    {
      "cell_type": "code",
      "metadata": {
        "colab": {
          "base_uri": "https://localhost:8080/"
        },
        "id": "K-1pFCBpFAPp",
        "outputId": "f70d2771-a3e1-4869-bb7b-6bcaf46864fb"
      },
      "source": [
        "age = 15 \n",
        "money = 500\n",
        "\n",
        "if age > 18 or money > 100:\n",
        "  print(\"Welcome\")"
      ],
      "execution_count": null,
      "outputs": [
        {
          "output_type": "stream",
          "text": [
            "Welcome\n"
          ],
          "name": "stdout"
        }
      ]
    },
    {
      "cell_type": "markdown",
      "metadata": {
        "id": "NQWuBjTMFQUy"
      },
      "source": [
        "**Boolean Not**\n",
        "\n",
        "Unlike other operators we've seen so far, **not** takes one argument, and **inverts it**.\n",
        "\n",
        "The result of \n",
        "- **not True** is **False** \n",
        "- **not False** goes to **True**\n",
        "\n",
        "> print(not 1 == 1)\n",
        "\n",
        "> #False \n",
        "\n",
        "> print(not 1 > 7)\n",
        "\n",
        "> #True\n",
        "\n",
        "You can chain multiple conditional statements in an if statement using the Boolearn operators."
      ]
    },
    {
      "cell_type": "code",
      "metadata": {
        "colab": {
          "base_uri": "https://localhost:8080/"
        },
        "id": "fB3wV08EGAmt",
        "outputId": "85fd3b83-289f-49df-d331-201ef0776122"
      },
      "source": [
        "if not True:\n",
        "  print(\"1\")\n",
        "elif not (1+1 == 3):\n",
        "  print(\"2\")\n",
        "else:\n",
        "  print(\"3\")"
      ],
      "execution_count": null,
      "outputs": [
        {
          "output_type": "stream",
          "text": [
            "2\n"
          ],
          "name": "stdout"
        }
      ]
    },
    {
      "cell_type": "markdown",
      "metadata": {
        "id": "RxJlpJ5UGe7E"
      },
      "source": [
        "**Operator Precedence**\n",
        "\n",
        "Operator precedence is a very important concept in programming. It is an extension of the methematical idea of order of operations (multiplication being performed before addition, etc.) to include other operators, such as those in Boolean logic.\n",
        "\n",
        "The below code shows that == has a higher precedence than or\n",
        "\n",
        "> print(False == False or True)\n",
        "\n",
        "> #True\n",
        "\n",
        "> print(False == (False or True))\n",
        "\n",
        "> #False\n",
        "\n",
        "> print((False == False) or True)\n",
        "\n",
        "> #True\n",
        "\n",
        "**Python's order** of operations is the same as that of normal mathematics: \n",
        "- parentheses first, \n",
        "- then exponentiation, \n",
        "- then multiplication / division, \n",
        "- and then addition / subtraction."
      ]
    },
    {
      "cell_type": "code",
      "metadata": {
        "colab": {
          "base_uri": "https://localhost:8080/"
        },
        "id": "V8gJHau1HlNd",
        "outputId": "edeb7227-eb3a-49b3-d5ba-2b24e610d33f"
      },
      "source": [
        "if 1 + 1*3 == 6:\n",
        "  print(\"Yes\")\n",
        "else:\n",
        "  print(\"No\")"
      ],
      "execution_count": null,
      "outputs": [
        {
          "output_type": "stream",
          "text": [
            "No\n"
          ],
          "name": "stdout"
        }
      ]
    },
    {
      "cell_type": "markdown",
      "metadata": {
        "id": "BzGvW7WZHxli"
      },
      "source": [
        "**Chaining Multiple Conditions**\n",
        "\n",
        "You can chain multiple conditional statements in an if statement using The \n",
        "Boolean operators.\n",
        "\n",
        "For example, we can if the value of a grade is between 70 and 100:\n",
        "\n",
        "> grade = 88\n",
        "\n",
        "> if (grade >= 70 and grade <= 100):\n",
        ">>print(\"passed!\")\n",
        "\n",
        "You can use multiple and, or, not operators to chain multiple conditions together."
      ]
    },
    {
      "cell_type": "code",
      "metadata": {
        "colab": {
          "base_uri": "https://localhost:8080/"
        },
        "id": "F6hwd27HIWL0",
        "outputId": "4b8a67d0-52d2-48d9-effb-ae7d3fa3243d"
      },
      "source": [
        "x = 4 \n",
        "y = 2\n",
        "if not 1 + 1 == y or x == 4 and 7 == 8: # not [(true) or [(true) and (false)]]\n",
        "  print(\"Yes\")\n",
        "elif x > y:\n",
        "  print(\"No\")"
      ],
      "execution_count": null,
      "outputs": [
        {
          "output_type": "stream",
          "text": [
            "No\n"
          ],
          "name": "stdout"
        }
      ]
    },
    {
      "cell_type": "markdown",
      "metadata": {
        "id": "2rGnF-izIy8J"
      },
      "source": [
        "**Lists**\n",
        "\n",
        "**Lists** are used to store items.\n",
        "A list is created using square brackets with commas separating items.\n",
        "\n",
        "> words = [\"Hello\", \"world\", \"!\"]\n",
        "\n",
        "In the example above the words list contains three string items.\n",
        "\n",
        "A certain item in the list can be accessed by using its index in square brackets.\n",
        "\n",
        "For example:\n",
        "\n",
        "> words = [\"Hello\", \"world\", \"!\"]\n",
        "\n",
        "> print(words[0])\n",
        "\n",
        "> print(words[1])\n",
        "\n",
        "> print(words[2])\n",
        "\n",
        "The first list item's index is 0, rather than 1, as might be expected.\n"
      ]
    },
    {
      "cell_type": "code",
      "metadata": {
        "colab": {
          "base_uri": "https://localhost:8080/"
        },
        "id": "qmfnocalJptW",
        "outputId": "9a82d48d-5efa-407a-c706-980d8587c802"
      },
      "source": [
        "nums = [5,4,3,2,1]\n",
        "\n",
        "print(nums[1])"
      ],
      "execution_count": null,
      "outputs": [
        {
          "output_type": "stream",
          "text": [
            "4\n"
          ],
          "name": "stdout"
        }
      ]
    },
    {
      "cell_type": "markdown",
      "metadata": {
        "id": "eJcqqV3YJwq5"
      },
      "source": [
        "**Lists**\n",
        "\n",
        "Sometimes you need to create an empty list and populate it later during the program. For example, if you are creating a queue management program, the queue is going to be empty in the beginning and get populated with people data later.\n",
        "\n",
        "An empty list is created with an empty pair of square brackets.\n",
        "\n",
        "> empty_list = []\n",
        "\n",
        "> print(empty_list)\n",
        "\n",
        "In some code samples you might see a comma after the last item in the list. It's not mandatory, but perfectly valid."
      ]
    },
    {
      "cell_type": "code",
      "metadata": {
        "colab": {
          "base_uri": "https://localhost:8080/"
        },
        "id": "zsU5ESbVKeKu",
        "outputId": "f0faad41-a1ba-4b08-815a-4297a38b9dab"
      },
      "source": [
        "nums = [2,]\n",
        "\n",
        "i = 0\n",
        "\n",
        "for num in nums:\n",
        "  i += 1\n",
        "  print(i)"
      ],
      "execution_count": null,
      "outputs": [
        {
          "output_type": "stream",
          "text": [
            "1\n"
          ],
          "name": "stdout"
        }
      ]
    },
    {
      "cell_type": "markdown",
      "metadata": {
        "id": "absx1L4TLZ5k"
      },
      "source": [
        "**Lists**\n",
        "\n",
        "Typically, a list will contain items of a single item type, but it is also possible to include several different types.\n",
        "\n",
        "Lists can also be nested within other lists.\n",
        "\n",
        "> number = 3\n",
        "\n",
        "> Things = [\"string\", 0, [1, 2, number], 4.56]\n",
        "\n",
        "> print(things[1])\n",
        "\n",
        "> print(things[2])\n",
        "\n",
        "> print(things[2][2])\n",
        "\n",
        "Nested lists can be used to represent 2D grids, such as matrices. \n",
        "\n",
        "For example:\n",
        "\n",
        "> m = [\n",
        "\n",
        ">     [ 1, 2, 3 ],\n",
        "\n",
        ">     [ 4, 5, 6 ],\n",
        "\n",
        ">     ] \n",
        "\n",
        "> print(m[1][2])\n",
        "\n",
        "A matrix-like structure can be used in cases where you need to store data in row-column format. For example, when creating a ticketing program, the seat numbers can be stored in a matrix, with their corresponding rows and numbers.\n",
        "\n",
        "The code above outputs the 3rd item of the 2nd row."
      ]
    },
    {
      "cell_type": "code",
      "metadata": {
        "colab": {
          "base_uri": "https://localhost:8080/"
        },
        "id": "JlWMB3QTM3g9",
        "outputId": "87d453ba-4dab-4ac1-c53f-0642700e4411"
      },
      "source": [
        "list = [42, 55, 67]\n",
        "\n",
        "print(list[2])"
      ],
      "execution_count": null,
      "outputs": [
        {
          "output_type": "stream",
          "text": [
            "67\n"
          ],
          "name": "stdout"
        }
      ]
    },
    {
      "cell_type": "markdown",
      "metadata": {
        "id": "EuxRgqR1NCL5"
      },
      "source": [
        "**Lists**\n",
        "\n",
        "Some types, such as strings, can be indexed like lists. \n",
        "\n",
        "Indexing strings behaves as though you are indexing a list containing each character in the string.\n",
        "\n",
        "For example:\n",
        "\n",
        "> str = \"Hello world!\"\n",
        "\n",
        "> print(str[6])\n",
        "\n",
        "Space(\" \") is also a symbol and has an index.\n",
        "\n",
        "Trying to access a non-existing index will produce an error."
      ]
    },
    {
      "cell_type": "code",
      "metadata": {
        "colab": {
          "base_uri": "https://localhost:8080/"
        },
        "id": "Kb-BasiENi_E",
        "outputId": "0c9c01ba-1426-4c6c-a1ad-fa050f0e3636"
      },
      "source": [
        "num = [5,4,2,[2],1]\n",
        "\n",
        "print(num[0])\n",
        "print(num[3][0])\n",
        "#print(num[5]) error"
      ],
      "execution_count": null,
      "outputs": [
        {
          "output_type": "stream",
          "text": [
            "5\n",
            "2\n"
          ],
          "name": "stdout"
        }
      ]
    },
    {
      "cell_type": "markdown",
      "metadata": {
        "id": "5p8PknkYAqKJ"
      },
      "source": [
        "**List Operations**\n",
        "\n",
        "The item at a certian index in a list can be reassigned \n",
        "\n",
        "For example:\n",
        "\n",
        "> nums = [7, 7, 7, 7, 7]\n",
        "\n",
        "> nums[2] = 5\n",
        "\n",
        "> print(nums)\n",
        "\n",
        "You can replace the item with an item of a different type."
      ]
    },
    {
      "cell_type": "code",
      "metadata": {
        "colab": {
          "base_uri": "https://localhost:8080/"
        },
        "id": "3bzyPuL1BEv8",
        "outputId": "af11437f-5403-4c05-93e0-e1f5c4a14596"
      },
      "source": [
        "nums = [1, 2, 3, 4, 5]\n",
        "nums[3] = nums[1]\n",
        "\n",
        "print(nums[3])"
      ],
      "execution_count": null,
      "outputs": [
        {
          "output_type": "stream",
          "text": [
            "2\n"
          ],
          "name": "stdout"
        }
      ]
    },
    {
      "cell_type": "markdown",
      "metadata": {
        "id": "s29mVR_pBT2_"
      },
      "source": [
        "**List Operations**\n",
        "\n",
        "Lists can be added an multiplied in the same way as strings. \n",
        "\n",
        "For example:\n",
        "\n",
        "> nums = [1, 2, 3]\n",
        "\n",
        "> print(nums + [4, 5, 6])\n",
        "\n",
        "> print(nums *3)\n",
        "\n",
        "Lists and strings are similar in many ways \n",
        "\n",
        "string can be thought of as lists of characters that can't be changed\n",
        "\n",
        "For example, the string \"Hello\" can be thought of as a list, where each character is an item in the list. The first item is \"H\", the second item is \"e\", and so on."
      ]
    },
    {
      "cell_type": "code",
      "metadata": {
        "colab": {
          "base_uri": "https://localhost:8080/"
        },
        "id": "43uq6D87CFmw",
        "outputId": "2ec6b8b2-5179-45a4-a4e5-f0d8455d9907"
      },
      "source": [
        "nums = [33, 42, 56]\n",
        "nums[1] = 22\n",
        "\n",
        "print(nums)"
      ],
      "execution_count": null,
      "outputs": [
        {
          "output_type": "stream",
          "text": [
            "[33, 22, 56]\n"
          ],
          "name": "stdout"
        }
      ]
    },
    {
      "cell_type": "markdown",
      "metadata": {
        "id": "vUEFyvcACRMH"
      },
      "source": [
        "**List Operations**\n",
        "\n",
        "To check if an item is in a list, the **in** operator can be used. \n",
        "\n",
        "- It returns **True** if the item occurs one or more times in the list, and\n",
        "- **False** if it doesn't\n",
        "\n",
        "> words = [\"spam\", \"egg\", \"spam\", \"sausage\"]\n",
        "\n",
        "> print(\"spam\" in words)\n",
        "\n",
        "> print(\"egg\" in words)\n",
        "\n",
        "> print(\"tomato\" in words)\n",
        "\n",
        "The **in** operator is also used to determien whether or not a string is a substring of another string."
      ]
    },
    {
      "cell_type": "code",
      "metadata": {
        "colab": {
          "base_uri": "https://localhost:8080/"
        },
        "id": "PH93tzbyC8BI",
        "outputId": "0d2abb7d-0984-40d9-fd9a-63db6e90cb2e"
      },
      "source": [
        "nums = [10, 9, 8, 7, 6, 5]\n",
        "nums[0] = nums[1] - 5\n",
        "\n",
        "if 4 in nums:\n",
        "  print(nums[3])\n",
        "else:\n",
        "  print(nums[4])"
      ],
      "execution_count": null,
      "outputs": [
        {
          "output_type": "stream",
          "text": [
            "7\n"
          ],
          "name": "stdout"
        }
      ]
    },
    {
      "cell_type": "markdown",
      "metadata": {
        "id": "iuGyDL64DR1t"
      },
      "source": [
        "**List Operations**\n",
        "\n",
        "To check if an item is not in a list, you can use the **not** operator in one of the following ways:\n",
        "\n",
        "> nums = [1, 2, 3]\n",
        "\n",
        "> print(not 4 in nums)\n",
        "\n",
        "> print(4 not in nums)\n",
        "\n",
        "> print(not 3 in nums)\n",
        "\n",
        "> print(3 not in nums)\n",
        "\n",
        "> #True \n",
        "\n",
        "> #True\n",
        "\n",
        "> #False\n",
        "\n",
        "> #False"
      ]
    },
    {
      "cell_type": "code",
      "metadata": {
        "colab": {
          "base_uri": "https://localhost:8080/"
        },
        "id": "jtVQjEZJDyk9",
        "outputId": "4b344d79-7fa2-4196-85b8-4e8d32cceefc"
      },
      "source": [
        "letters = ['a', 'b', 'z']\n",
        "\n",
        "if \"z\" in letters:\n",
        "  print(\"Yes\")"
      ],
      "execution_count": null,
      "outputs": [
        {
          "output_type": "stream",
          "text": [
            "Yes\n"
          ],
          "name": "stdout"
        }
      ]
    },
    {
      "cell_type": "markdown",
      "metadata": {
        "id": "T6WHXCupEFdN"
      },
      "source": [
        "**List Functions**\n",
        "\n",
        "The **append** method adds an item to the end of an existing list.\n",
        "\n",
        "For example:\n",
        "\n",
        "> nums = [1, 2, 3]\n",
        "\n",
        "> nums.append(4)\n",
        "\n",
        "> print(nums)\n",
        "\n",
        "> #[1, 2, 3, 4]\n",
        "\n",
        "The **dot** before append is there because it is a **method** of the list class. "
      ]
    },
    {
      "cell_type": "code",
      "metadata": {
        "colab": {
          "base_uri": "https://localhost:8080/"
        },
        "id": "xpLhL4MfEj__",
        "outputId": "b05213be-f633-4804-d86b-258efb0ce2a3"
      },
      "source": [
        "words = [\"hello\"]\n",
        "words.append(\"world\")\n",
        "\n",
        "print(words[1])"
      ],
      "execution_count": null,
      "outputs": [
        {
          "output_type": "stream",
          "text": [
            "world\n"
          ],
          "name": "stdout"
        }
      ]
    },
    {
      "cell_type": "markdown",
      "metadata": {
        "id": "vOLN-0eBEud_"
      },
      "source": [
        "**List Functions**\n",
        "\n",
        "To get the number of items in a list, you can use the **len** function.\n",
        "\n",
        "> nums = [1, 3, 5, 2, 4]\n",
        "\n",
        "> print(len(nums))\n",
        "\n",
        "Unlike the index of the items, **len** does not start with 0. So, the list above contains 5 items, meaning **len** will return 5.\n",
        "\n",
        "**len** is written before the list it is being called on, without a dot.\n"
      ]
    },
    {
      "cell_type": "code",
      "metadata": {
        "colab": {
          "base_uri": "https://localhost:8080/"
        },
        "id": "HVnErWnyFMdd",
        "outputId": "a7c7cadb-0522-4d7a-902c-a600280181a2"
      },
      "source": [
        "letters = [\"a\", \"b\", \"c\"]\n",
        "letters.append(\"d\")\n",
        "\n",
        "print(len(letters))"
      ],
      "execution_count": null,
      "outputs": [
        {
          "output_type": "stream",
          "text": [
            "4\n"
          ],
          "name": "stdout"
        }
      ]
    },
    {
      "cell_type": "markdown",
      "metadata": {
        "id": "M6VtHhD3FWbk"
      },
      "source": [
        "**List Functions**\n",
        "\n",
        "The **insert** method is similar to **append**, except that it allows you to insert a new item at any position in the list, as opposed to just at the end.\n",
        "\n",
        "> words = [\"Python\", \"fun]\n",
        "\n",
        "> index = 1\n",
        "\n",
        "> words.insert(index, \"is\")\n",
        "\n",
        "> print(words)\n",
        "\n",
        "> #Python is fun\n",
        "\n",
        "Elements, that are after the inserted item, are shifted to the right."
      ]
    },
    {
      "cell_type": "code",
      "metadata": {
        "colab": {
          "base_uri": "https://localhost:8080/"
        },
        "id": "tLEPweozF48e",
        "outputId": "4f0862b6-fb06-4221-fc34-e8585901773c"
      },
      "source": [
        "nums = [9, 8, 7, 6, 5]\n",
        "nums.append(4)\n",
        "nums.insert(2,11)\n",
        "\n",
        "print(nums)\n",
        "print(len(nums))"
      ],
      "execution_count": null,
      "outputs": [
        {
          "output_type": "stream",
          "text": [
            "[9, 8, 11, 7, 6, 5, 4]\n",
            "7\n"
          ],
          "name": "stdout"
        }
      ]
    },
    {
      "cell_type": "markdown",
      "metadata": {
        "id": "aCccVzMyGJ3W"
      },
      "source": [
        "**List Functions**\n",
        "\n",
        "The **index** method finds the first occurrence of a list item and returns its index.\n",
        "\n",
        "if the item isn't in the list, it raises a ValueError.\n",
        "\n",
        "> letters = ['p', 'q', 'r', 's', 'p', 'u']\n",
        "\n",
        "> print(letters.index('r))\n",
        "\n",
        "> print(letters.index('p'))\n",
        "\n",
        "> print(letters.index('z'))\n",
        "\n",
        "> #2\n",
        "\n",
        "> #0\n",
        "\n",
        "> #ValueError.\n",
        "\n",
        "there are a few more useful functions and methods for lists.\n",
        "\n",
        "- max(list): Returns the list item with the maximum value.\n",
        "- min(list): Returns the list item with the minimum value.\n",
        "- list.count(item): Returns a count of how many times an item occurs in a list.\n",
        "- list.remove(item): Removes an object from a list.\n",
        "- list.reverse(): Reverses items in a list.\n",
        "\n",
        "For example, \n",
        "you can count how many 42s are there in the lsit using: **items.count(42)**\n",
        "where items is the name of our list."
      ]
    },
    {
      "cell_type": "code",
      "metadata": {
        "colab": {
          "base_uri": "https://localhost:8080/"
        },
        "id": "W88PO42DHjGH",
        "outputId": "fef556bf-c6cc-438b-d486-dd7a512178c8"
      },
      "source": [
        "list = ['x', 'y']\n",
        "\n",
        "list.append('z')\n",
        "\n",
        "print(len(list))"
      ],
      "execution_count": null,
      "outputs": [
        {
          "output_type": "stream",
          "text": [
            "3\n"
          ],
          "name": "stdout"
        }
      ]
    },
    {
      "cell_type": "markdown",
      "metadata": {
        "id": "r5UWTlCQH5KP"
      },
      "source": [
        "**while Loops**\n",
        "\n",
        "A **while** loop is used to repeat a block of code multiple times.\n",
        "\n",
        "For example, let's say we need to process multiple user inputs, so that each time the user inputs something, the same block of code needs to execute.\n",
        "\n",
        "Below is a **while** loop containing a variable that counts up for 1 to 5, at which point the loop terminates.\n",
        "\n",
        "> i = 1\n",
        "\n",
        "> while i <= 5:\n",
        "\n",
        ">> print(i)\n",
        "\n",
        ">> i = i + 1\n",
        "\n",
        ">print(\"Finished!\")\n",
        "\n",
        "During each loop iteration, the i variable will get incremented by one, until it reaches 5.\n",
        "\n",
        "So, the loop will execure the print statement 5 times.\n",
        "\n",
        "The code in the body of a **while** loop is executed repeatedly, This is called **iteration.**\n"
      ]
    },
    {
      "cell_type": "code",
      "metadata": {
        "colab": {
          "base_uri": "https://localhost:8080/"
        },
        "id": "Bi0BAomTJFgJ",
        "outputId": "f8b5e4c8-84fd-4552-bd9a-dbec20ae478d"
      },
      "source": [
        "i = 3\n",
        "\n",
        "while i >= 0:\n",
        "  print(i)\n",
        "  i = i - 1"
      ],
      "execution_count": null,
      "outputs": [
        {
          "output_type": "stream",
          "text": [
            "3\n",
            "2\n",
            "1\n",
            "0\n"
          ],
          "name": "stdout"
        }
      ]
    },
    {
      "cell_type": "markdown",
      "metadata": {
        "id": "MygYQY1qJQuM"
      },
      "source": [
        "**while Loops**\n",
        "\n",
        "You can use multiple statements in the while loop. \n",
        "\n",
        "For example, you can use an **if** statement to make decisions. This can be useful, if you are making a game and need to loop through a number of player actions and add or remove points of the player.\n",
        "\n",
        "The code below uses an if/else statement inside a while loop to separate the even and odd numbers in the range of 1 to 10:\n",
        "\n",
        "> x = 1\n",
        "\n",
        "> while x < 10:\n",
        "\n",
        ">> if x % 2 == 0:\n",
        "\n",
        ">>> print(str(x) + \" is even\")\n",
        "\n",
        ">> else:\n",
        "\n",
        ">>> print(str(x) + \" is odd\")\n",
        "\n",
        ">> x += 1\n",
        "\n",
        "**str(x)** is used to convert the number x to a string, so that it can be used for concatenation\n",
        "\n",
        "In console, you can stop the program's execution by using the Ctrl-c shortcut or by closing the program."
      ]
    },
    {
      "cell_type": "code",
      "metadata": {
        "colab": {
          "base_uri": "https://localhost:8080/"
        },
        "id": "IRXqoS5IKaM-",
        "outputId": "27f6c1f2-b5e9-4eb8-e3d8-a6340419bbad"
      },
      "source": [
        "x = 0\n",
        "\n",
        "while x <= 20:\n",
        "  print(x)\n",
        "\n",
        "  x += 2"
      ],
      "execution_count": null,
      "outputs": [
        {
          "output_type": "stream",
          "text": [
            "0\n",
            "2\n",
            "4\n",
            "6\n",
            "8\n",
            "10\n",
            "12\n",
            "14\n",
            "16\n",
            "18\n",
            "20\n"
          ],
          "name": "stdout"
        }
      ]
    },
    {
      "cell_type": "markdown",
      "metadata": {
        "id": "X1fZX-15Kq58"
      },
      "source": [
        "**break** \n",
        "\n",
        "To end a while loop prematurely, the break statement can be used. \n",
        "\n",
        "For example, we can break an infinite loop if some condition is met:\n",
        "\n",
        "> i = 0\n",
        "\n",
        "> while True:\n",
        "\n",
        ">> print(i)\n",
        "\n",
        ">> i = i + 1\n",
        "\n",
        ">> if i >= 5:\n",
        "\n",
        ">>> print(\"Breaking\")\n",
        "\n",
        ">>> break\n",
        "\n",
        ">print(\"Finished\")\n",
        "\n",
        "**while True** is a short and easy way to make an infinite loop.\n",
        "\n",
        "**An example use case of break:**\n",
        "\n",
        "An infinite while loop can be used to continuously take user input. \n",
        "\n",
        "For example, you are making a calculator and need to take numbers from the user to add an stop, when the user enters **\"stop\"**.\n",
        "\n",
        "In the case, the **break** statement can be used to end the infinite loop when the user input equals \"stop\".\n",
        "\n",
        "Using the **break** statement outside of a loop causes an error."
      ]
    },
    {
      "cell_type": "code",
      "metadata": {
        "colab": {
          "base_uri": "https://localhost:8080/"
        },
        "id": "9RRQiZyIL_VW",
        "outputId": "0ebe54e9-a2ee-44c2-e617-6efee89d61b8"
      },
      "source": [
        "i = 5 \n",
        "while True:\n",
        "  print(i)\n",
        "  i = i -1\n",
        "  if i <= 2:\n",
        "    break"
      ],
      "execution_count": null,
      "outputs": [
        {
          "output_type": "stream",
          "text": [
            "5\n",
            "4\n",
            "3\n"
          ],
          "name": "stdout"
        }
      ]
    },
    {
      "cell_type": "markdown",
      "metadata": {
        "id": "9yA8xCttMOA0"
      },
      "source": [
        "**continue**\n",
        "\n",
        "Another statement that can be used withing loops is **continue**  \n",
        "\n",
        "Unlike **break**, **continue** jumps back to the top of the loop, rather than stopping it.\n",
        "\n",
        "Basically, the **continue** statement stops the current iteration and continues with the next one.\n",
        "\n",
        "**For example:**\n",
        "\n",
        "> i = 1 \n",
        "\n",
        ">while i <= 5:\n",
        "\n",
        ">> print(i)\n",
        "\n",
        ">> i += 1\n",
        "\n",
        ">> if i == 3:\n",
        "\n",
        ">> print(\"Skipping 3\")\n",
        "\n",
        ">> continue\n",
        "\n",
        "**An example use case of continue:**\n",
        "\n",
        "An airline ticketing system needs to calculate the total cost for all tickets purchased. The tickets for childeren under the age of 1 are free. We can use a while loop to iterate through the list of passengers and calculate the total cost of their tickets. Here, the **continue** statement can be used to skip the children.\n",
        "\n",
        "Using the **continue** statement outside of a loop causes and error.\n",
        "\n"
      ]
    },
    {
      "cell_type": "markdown",
      "metadata": {
        "id": "5vrIybTuNbHW"
      },
      "source": [
        "**for Loop**\n",
        "\n",
        "The for loop is used to iterate over a given sequence, such as lists or strings. \n",
        "\n",
        "The code below outputs each item in the list and adds an exclamation mark at the end:\n",
        "\n",
        "> words = [\"hello\", \"world\", \"spam\", \"eggs\"]\n",
        "\n",
        "> for word in words:\n",
        "\n",
        ">> print(word + \"!\")\n",
        "\n",
        "In the code above, the word variable represents the corresponding item of the list in each iteration of the loop. \n",
        "\n",
        "During the 1st iteration, word is equal to \"hello\", and during the 2nd iteration it's equal to \"world\", and so on."
      ]
    },
    {
      "cell_type": "code",
      "metadata": {
        "colab": {
          "base_uri": "https://localhost:8080/"
        },
        "id": "a1cSzIiYOLr9",
        "outputId": "7f94459c-0127-4153-fd40-e7e5e9a8326a"
      },
      "source": [
        "letters = ['a', 'b', 'c']\n",
        "\n",
        "for l in letters:\n",
        "  print(l)"
      ],
      "execution_count": null,
      "outputs": [
        {
          "output_type": "stream",
          "text": [
            "a\n",
            "b\n",
            "c\n"
          ],
          "name": "stdout"
        }
      ]
    },
    {
      "cell_type": "markdown",
      "metadata": {
        "id": "efDDvBInOX_d"
      },
      "source": [
        "**for Loops**\n",
        "\n",
        "The **for** loop can be used to iterate over strings.\n",
        "\n",
        "**For example:**\n",
        "\n",
        "> str = \"testing for loops\"\n",
        "\n",
        "> count = 0\n",
        "\n",
        "> for x in str:\n",
        "\n",
        ">> if(x == 't'):\n",
        "\n",
        ">>> count += 1\n",
        "\n",
        "> print(count)\n",
        "\n",
        "\n",
        "The code above defines a count variable, iterates over the string and calculates the count of 't' letters in it. During each iteration, the **x** variable represents the current letter of the string.\n",
        "\n",
        "The count variable is incremented each itme the letter 't' is found, thus, at the end of the loop it represents the number of 't' letters in the string.\n",
        "\n",
        "Similar to **while** loops, the **break** and **continue** statemetns can be used in **for** loops, to stop the loop or jump to the next iteration."
      ]
    },
    {
      "cell_type": "code",
      "metadata": {
        "colab": {
          "base_uri": "https://localhost:8080/"
        },
        "id": "2YZy9_uXPd0l",
        "outputId": "405a705f-f731-47ae-ba27-723dce34b7fc"
      },
      "source": [
        "list = [2, 3, 4, 5, 6, 7]\n",
        "\n",
        "for x in list:\n",
        " if (x % 2 == 1 and x > 4):\n",
        "   print(x)\n",
        "   break"
      ],
      "execution_count": null,
      "outputs": [
        {
          "output_type": "stream",
          "text": [
            "5\n"
          ],
          "name": "stdout"
        }
      ]
    },
    {
      "cell_type": "markdown",
      "metadata": {
        "id": "nP2uazFyP567"
      },
      "source": [
        "** for vs while **\n",
        "\n",
        "Both, **for** and **while** loops can be used to execute a block of code for multiple times.\n",
        "\n",
        "It is common to use the **for** loop when the number of iterations is fixed. For example, iterating over a fixed list of items in a shopping list.\n",
        "\n",
        "The **while** loop is used in cases when the number of iterations is not known and depends on some calculations and conditions in the code block of the loop.\n",
        "\n",
        "For example, ending the loop when the user enters a specific input in a calculator program.\n",
        "\n",
        "Both, **for** and **while** loops can be used to achieve the same results, however, the **for** loop has cleaner and shorter syntax, makign it a better choice in most cases."
      ]
    },
    {
      "cell_type": "markdown",
      "metadata": {
        "id": "jo8Ox4TpRAw4"
      },
      "source": [
        "**Range**\n",
        "\n",
        "The **range()** function returns a sequence of numbers.\n",
        "\n",
        "By default, it starts from 0, increments by 1 and stops **before the specified number.**\n",
        "\n",
        "The code below generates a list containing all of the integers, up to 10.\n",
        "\n",
        "> numbers = list(range(10))\n",
        "\n",
        "> print(numbers)\n",
        "\n",
        "In order to output the range as a list, we need to explicitly convert it to a list, using the **list()** function."
      ]
    },
    {
      "cell_type": "code",
      "metadata": {
        "colab": {
          "base_uri": "https://localhost:8080/"
        },
        "id": "Fy2P3EruRnxO",
        "outputId": "e0fee043-45b6-438f-f7cc-45992d35e1f1"
      },
      "source": [
        "list = range(5)\n",
        "\n",
        "print(list[4])"
      ],
      "execution_count": null,
      "outputs": [
        {
          "output_type": "stream",
          "text": [
            "4\n"
          ],
          "name": "stdout"
        }
      ]
    },
    {
      "cell_type": "markdown",
      "metadata": {
        "id": "eNCzU23xSI28"
      },
      "source": [
        "**Range**\n",
        "\n",
        "if range is **called with one argument**, it produces an object with values **from 0 to that argument**.\n",
        "\n",
        "if it is **called with two arguemnts**, it produces values **from the first to the second**.\n",
        "\n",
        "For example:\n",
        "\n",
        "> numbers = list(range(3, 8))\n",
        "\n",
        "> print(numbers)\n",
        "\n",
        "> print(range(20) == range(0, 20))\n",
        "\n",
        "Remember, the second argument is not included in the range, so range(3, 8) will not include the number 8."
      ]
    },
    {
      "cell_type": "code",
      "metadata": {
        "colab": {
          "base_uri": "https://localhost:8080/"
        },
        "id": "A-tnpphYY9X-",
        "outputId": "73af411f-2231-4d73-a92a-8f7275db4e45"
      },
      "source": [
        "print(len(range(20)) == len(range(0,20)))"
      ],
      "execution_count": null,
      "outputs": [
        {
          "output_type": "stream",
          "text": [
            "True\n"
          ],
          "name": "stdout"
        }
      ]
    },
    {
      "cell_type": "code",
      "metadata": {
        "colab": {
          "base_uri": "https://localhost:8080/"
        },
        "id": "NC15yBSvS4KF",
        "outputId": "fac8389c-8478-4967-e675-3530d9c86987"
      },
      "source": [
        "nums = range(5, 8)\n",
        "\n",
        "print(len(nums))"
      ],
      "execution_count": null,
      "outputs": [
        {
          "output_type": "stream",
          "text": [
            "3\n"
          ],
          "name": "stdout"
        }
      ]
    },
    {
      "cell_type": "markdown",
      "metadata": {
        "id": "8pVJWIu-TJiC"
      },
      "source": [
        "**Range**\n",
        "\n",
        "**range** can have a **third argument**, which determines the **interval** of the sequence produced, also called the **step**\n",
        "\n",
        "> numbers = list(range(5, 20, 2))\n",
        "\n",
        "> print(numbers)\n",
        "\n",
        "We can also create list of **decreasign numbers**, using a **negative number** as the third argument, for example **lsit(range(20, 5, -2)).**"
      ]
    },
    {
      "cell_type": "code",
      "metadata": {
        "colab": {
          "base_uri": "https://localhost:8080/"
        },
        "id": "r9wk8JeiTnE8",
        "outputId": "0fd330c4-eb40-4d21-9840-b2a906d0396e"
      },
      "source": [
        "nums = range(3, 15, 3)\n",
        "print(nums[2])"
      ],
      "execution_count": null,
      "outputs": [
        {
          "output_type": "stream",
          "text": [
            "9\n"
          ],
          "name": "stdout"
        }
      ]
    },
    {
      "cell_type": "markdown",
      "metadata": {
        "id": "J6RExEWlTvo6"
      },
      "source": [
        "**for Loops**\n",
        "\n",
        "The **for** loop is commonly used to repeat some code a certain number of times. This is done by combining for loop with **range** objects.\n",
        "\n",
        "> for i in range(5):\n",
        ">> print(\"hello!\")\n",
        "\n",
        "You don't need to call **list** on the **range** object when it is used in a **for** loop, because it isn't being indexed, so a list isn't required"
      ]
    },
    {
      "cell_type": "code",
      "metadata": {
        "colab": {
          "base_uri": "https://localhost:8080/"
        },
        "id": "hopQ1-fuUWBc",
        "outputId": "78d25e88-ecd9-409e-ac47-f23fc4bcb150"
      },
      "source": [
        "for i in range(0, 20, 2):\n",
        "  print(i)"
      ],
      "execution_count": null,
      "outputs": [
        {
          "output_type": "stream",
          "text": [
            "0\n",
            "2\n",
            "4\n",
            "6\n",
            "8\n",
            "10\n",
            "12\n",
            "14\n",
            "16\n",
            "18\n"
          ],
          "name": "stdout"
        }
      ]
    },
    {
      "cell_type": "code",
      "metadata": {
        "colab": {
          "base_uri": "https://localhost:8080/"
        },
        "id": "j54NQnQhEsqX",
        "outputId": "f5d00431-63c6-4464-862e-1da8d0457a02"
      },
      "source": [
        "list = [1, 1, 2, 3, 5, 8, 13]\n",
        "\n",
        "print(list[list[4]])"
      ],
      "execution_count": null,
      "outputs": [
        {
          "output_type": "stream",
          "text": [
            "8\n"
          ],
          "name": "stdout"
        }
      ]
    },
    {
      "cell_type": "code",
      "metadata": {
        "colab": {
          "base_uri": "https://localhost:8080/"
        },
        "id": "jBt6z9YsE59X",
        "outputId": "877296e2-8c02-44c6-a067-c64a4815ca98"
      },
      "source": [
        "for i in range (10):\n",
        "  if not i % 2 == 0 :\n",
        "    print(i + 1)"
      ],
      "execution_count": null,
      "outputs": [
        {
          "output_type": "stream",
          "text": [
            "2\n",
            "4\n",
            "6\n",
            "8\n",
            "10\n"
          ],
          "name": "stdout"
        }
      ]
    },
    {
      "cell_type": "code",
      "metadata": {
        "id": "YP5hgOm5FUg-"
      },
      "source": [
        "while False:\n",
        "  print(\"Looping...\")"
      ],
      "execution_count": null,
      "outputs": []
    },
    {
      "cell_type": "code",
      "metadata": {
        "colab": {
          "base_uri": "https://localhost:8080/"
        },
        "id": "RFLrjy-dFapX",
        "outputId": "150cca82-5071-41c0-85bb-299362c6aab0"
      },
      "source": [
        "list = [1, 2, 3, 4]\n",
        "if len(list) % 2 == 0:\n",
        "  print(list[0])"
      ],
      "execution_count": null,
      "outputs": [
        {
          "output_type": "stream",
          "text": [
            "1\n"
          ],
          "name": "stdout"
        }
      ]
    },
    {
      "cell_type": "code",
      "metadata": {
        "colab": {
          "base_uri": "https://localhost:8080/"
        },
        "id": "_8wMhCiVFuTR",
        "outputId": "625f0104-4ecc-4c0b-a85a-53ebbad39411"
      },
      "source": [
        "letters = ['x', 'y', 'z']\n",
        "letters.insert(1, 'w')\n",
        "print(letters[2])"
      ],
      "execution_count": null,
      "outputs": [
        {
          "output_type": "stream",
          "text": [
            "y\n"
          ],
          "name": "stdout"
        }
      ]
    },
    {
      "cell_type": "code",
      "metadata": {
        "colab": {
          "base_uri": "https://localhost:8080/"
        },
        "id": "PZZwhmQrF5Au",
        "outputId": "3eaf96dc-791c-4866-b2dd-b9a215d48cab"
      },
      "source": [
        "list = [1, 2, 3]\n",
        "for var in list:\n",
        "  print(var)"
      ],
      "execution_count": null,
      "outputs": [
        {
          "output_type": "stream",
          "text": [
            "1\n",
            "2\n",
            "3\n"
          ],
          "name": "stdout"
        }
      ]
    }
  ]
}